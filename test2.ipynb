{
 "cells": [
  {
   "cell_type": "code",
   "execution_count": 8,
   "id": "4019f14a-c799-4a26-9efc-6d6cc6571343",
   "metadata": {
    "scrolled": true
   },
   "outputs": [
    {
     "name": "stderr",
     "output_type": "stream",
     "text": [
      "/Library/Frameworks/Python.framework/Versions/3.12/lib/python3.12/site-packages/posthog/client.py:310: DeprecationWarning: datetime.datetime.utcnow() is deprecated and scheduled for removal in a future version. Use timezone-aware objects to represent datetimes in UTC: datetime.datetime.now(datetime.UTC).\n",
      "  timestamp = datetime.utcnow().replace(tzinfo=tzutc())\n",
      "/Library/Frameworks/Python.framework/Versions/3.12/lib/python3.12/site-packages/posthog/client.py:310: DeprecationWarning: datetime.datetime.utcnow() is deprecated and scheduled for removal in a future version. Use timezone-aware objects to represent datetimes in UTC: datetime.datetime.now(datetime.UTC).\n",
      "  timestamp = datetime.utcnow().replace(tzinfo=tzutc())\n"
     ]
    },
    {
     "ename": "BuildBatchRequestError",
     "evalue": "Bad input to build_batch_request: options must contain exactly 1 key, 'dataframe'.",
     "output_type": "error",
     "traceback": [
      "\u001b[0;31m---------------------------------------------------------------------------\u001b[0m",
      "\u001b[0;31mBuildBatchRequestError\u001b[0m                    Traceback (most recent call last)",
      "Cell \u001b[0;32mIn[8], line 44\u001b[0m\n\u001b[1;32m     41\u001b[0m validation_definition \u001b[38;5;241m=\u001b[39m context\u001b[38;5;241m.\u001b[39mvalidation_definitions\u001b[38;5;241m.\u001b[39madd(validation_definition)\n\u001b[1;32m     43\u001b[0m \u001b[38;5;66;03m# Run the Validation Definition\u001b[39;00m\n\u001b[0;32m---> 44\u001b[0m validation_results \u001b[38;5;241m=\u001b[39m \u001b[43mvalidation_definition\u001b[49m\u001b[38;5;241;43m.\u001b[39;49m\u001b[43mrun\u001b[49m\u001b[43m(\u001b[49m\u001b[43m)\u001b[49m\n\u001b[1;32m     46\u001b[0m \u001b[38;5;66;03m# Review the Validation Results\u001b[39;00m\n\u001b[1;32m     47\u001b[0m \u001b[38;5;28mprint\u001b[39m(validation_results)\n",
      "File \u001b[0;32m/Library/Frameworks/Python.framework/Versions/3.12/lib/python3.12/site-packages/great_expectations/core/validation_definition.py:289\u001b[0m, in \u001b[0;36mValidationDefinition.run\u001b[0;34m(self, checkpoint_id, batch_parameters, expectation_parameters, result_format, run_id)\u001b[0m\n\u001b[1;32m    282\u001b[0m         diagnostics\u001b[38;5;241m.\u001b[39mraise_for_error()\n\u001b[1;32m    284\u001b[0m validator \u001b[38;5;241m=\u001b[39m Validator(\n\u001b[1;32m    285\u001b[0m     batch_definition\u001b[38;5;241m=\u001b[39m\u001b[38;5;28mself\u001b[39m\u001b[38;5;241m.\u001b[39mbatch_definition,\n\u001b[1;32m    286\u001b[0m     batch_parameters\u001b[38;5;241m=\u001b[39mbatch_parameters,\n\u001b[1;32m    287\u001b[0m     result_format\u001b[38;5;241m=\u001b[39mresult_format,\n\u001b[1;32m    288\u001b[0m )\n\u001b[0;32m--> 289\u001b[0m results \u001b[38;5;241m=\u001b[39m \u001b[43mvalidator\u001b[49m\u001b[38;5;241;43m.\u001b[39;49m\u001b[43mvalidate_expectation_suite\u001b[49m\u001b[43m(\u001b[49m\u001b[38;5;28;43mself\u001b[39;49m\u001b[38;5;241;43m.\u001b[39;49m\u001b[43msuite\u001b[49m\u001b[43m,\u001b[49m\u001b[43m \u001b[49m\u001b[43mexpectation_parameters\u001b[49m\u001b[43m)\u001b[49m\n\u001b[1;32m    290\u001b[0m results\u001b[38;5;241m.\u001b[39mmeta[\u001b[38;5;124m\"\u001b[39m\u001b[38;5;124mvalidation_id\u001b[39m\u001b[38;5;124m\"\u001b[39m] \u001b[38;5;241m=\u001b[39m \u001b[38;5;28mself\u001b[39m\u001b[38;5;241m.\u001b[39mid\n\u001b[1;32m    291\u001b[0m results\u001b[38;5;241m.\u001b[39mmeta[\u001b[38;5;124m\"\u001b[39m\u001b[38;5;124mcheckpoint_id\u001b[39m\u001b[38;5;124m\"\u001b[39m] \u001b[38;5;241m=\u001b[39m checkpoint_id\n",
      "File \u001b[0;32m/Library/Frameworks/Python.framework/Versions/3.12/lib/python3.12/site-packages/great_expectations/validator/v1_validator.py:71\u001b[0m, in \u001b[0;36mValidator.validate_expectation_suite\u001b[0;34m(self, expectation_suite, expectation_parameters)\u001b[0m\n\u001b[1;32m     65\u001b[0m \u001b[38;5;28;01mdef\u001b[39;00m \u001b[38;5;21mvalidate_expectation_suite\u001b[39m(\n\u001b[1;32m     66\u001b[0m     \u001b[38;5;28mself\u001b[39m,\n\u001b[1;32m     67\u001b[0m     expectation_suite: ExpectationSuite,\n\u001b[1;32m     68\u001b[0m     expectation_parameters: Optional[SuiteParameterDict] \u001b[38;5;241m=\u001b[39m \u001b[38;5;28;01mNone\u001b[39;00m,\n\u001b[1;32m     69\u001b[0m ) \u001b[38;5;241m-\u001b[39m\u001b[38;5;241m>\u001b[39m ExpectationSuiteValidationResult:\n\u001b[1;32m     70\u001b[0m \u001b[38;5;250m    \u001b[39m\u001b[38;5;124;03m\"\"\"Run an expectation suite against the batch definition\"\"\"\u001b[39;00m\n\u001b[0;32m---> 71\u001b[0m     results \u001b[38;5;241m=\u001b[39m \u001b[38;5;28;43mself\u001b[39;49m\u001b[38;5;241;43m.\u001b[39;49m\u001b[43m_validate_expectation_configs\u001b[49m\u001b[43m(\u001b[49m\n\u001b[1;32m     72\u001b[0m \u001b[43m        \u001b[49m\u001b[43mexpectation_configs\u001b[49m\u001b[38;5;241;43m=\u001b[39;49m\u001b[43mexpectation_suite\u001b[49m\u001b[38;5;241;43m.\u001b[39;49m\u001b[43mexpectation_configurations\u001b[49m\u001b[43m,\u001b[49m\n\u001b[1;32m     73\u001b[0m \u001b[43m        \u001b[49m\u001b[43mexpectation_parameters\u001b[49m\u001b[38;5;241;43m=\u001b[39;49m\u001b[43mexpectation_parameters\u001b[49m\u001b[43m,\u001b[49m\n\u001b[1;32m     74\u001b[0m \u001b[43m    \u001b[49m\u001b[43m)\u001b[49m\n\u001b[1;32m     75\u001b[0m     statistics \u001b[38;5;241m=\u001b[39m calc_validation_statistics(results)\n\u001b[1;32m     77\u001b[0m     \u001b[38;5;28;01mreturn\u001b[39;00m ExpectationSuiteValidationResult(\n\u001b[1;32m     78\u001b[0m         results\u001b[38;5;241m=\u001b[39mresults,\n\u001b[1;32m     79\u001b[0m         success\u001b[38;5;241m=\u001b[39mstatistics\u001b[38;5;241m.\u001b[39msuccess,\n\u001b[0;32m   (...)\u001b[0m\n\u001b[1;32m     99\u001b[0m         batch_id\u001b[38;5;241m=\u001b[39m\u001b[38;5;28mself\u001b[39m\u001b[38;5;241m.\u001b[39mactive_batch_id,\n\u001b[1;32m    100\u001b[0m     )\n",
      "File \u001b[0;32m/Library/Frameworks/Python.framework/Versions/3.12/lib/python3.12/site-packages/great_expectations/validator/v1_validator.py:123\u001b[0m, in \u001b[0;36mValidator._validate_expectation_configs\u001b[0;34m(self, expectation_configs, expectation_parameters)\u001b[0m\n\u001b[1;32m    117\u001b[0m \u001b[38;5;28;01mdef\u001b[39;00m \u001b[38;5;21m_validate_expectation_configs\u001b[39m(\n\u001b[1;32m    118\u001b[0m     \u001b[38;5;28mself\u001b[39m,\n\u001b[1;32m    119\u001b[0m     expectation_configs: \u001b[38;5;28mlist\u001b[39m[ExpectationConfiguration],\n\u001b[1;32m    120\u001b[0m     expectation_parameters: Optional[SuiteParameterDict] \u001b[38;5;241m=\u001b[39m \u001b[38;5;28;01mNone\u001b[39;00m,\n\u001b[1;32m    121\u001b[0m ) \u001b[38;5;241m-\u001b[39m\u001b[38;5;241m>\u001b[39m \u001b[38;5;28mlist\u001b[39m[ExpectationValidationResult]:\n\u001b[1;32m    122\u001b[0m \u001b[38;5;250m    \u001b[39m\u001b[38;5;124;03m\"\"\"Run a list of expectation configurations against the batch definition\"\"\"\u001b[39;00m\n\u001b[0;32m--> 123\u001b[0m     processed_expectation_configs \u001b[38;5;241m=\u001b[39m \u001b[38;5;28;43mself\u001b[39;49m\u001b[38;5;241;43m.\u001b[39;49m\u001b[43m_wrapped_validator\u001b[49m\u001b[38;5;241m.\u001b[39mprocess_expectations_for_validation(\n\u001b[1;32m    124\u001b[0m         expectation_configs, expectation_parameters\n\u001b[1;32m    125\u001b[0m     )\n\u001b[1;32m    127\u001b[0m     runtime_configuration: \u001b[38;5;28mdict\u001b[39m\n\u001b[1;32m    128\u001b[0m     \u001b[38;5;28;01mif\u001b[39;00m \u001b[38;5;28misinstance\u001b[39m(\u001b[38;5;28mself\u001b[39m\u001b[38;5;241m.\u001b[39mresult_format, ResultFormat):\n",
      "File \u001b[0;32m/Library/Frameworks/Python.framework/Versions/3.12/lib/python3.12/functools.py:995\u001b[0m, in \u001b[0;36mcached_property.__get__\u001b[0;34m(self, instance, owner)\u001b[0m\n\u001b[1;32m    993\u001b[0m val \u001b[38;5;241m=\u001b[39m cache\u001b[38;5;241m.\u001b[39mget(\u001b[38;5;28mself\u001b[39m\u001b[38;5;241m.\u001b[39mattrname, _NOT_FOUND)\n\u001b[1;32m    994\u001b[0m \u001b[38;5;28;01mif\u001b[39;00m val \u001b[38;5;129;01mis\u001b[39;00m _NOT_FOUND:\n\u001b[0;32m--> 995\u001b[0m     val \u001b[38;5;241m=\u001b[39m \u001b[38;5;28;43mself\u001b[39;49m\u001b[38;5;241;43m.\u001b[39;49m\u001b[43mfunc\u001b[49m\u001b[43m(\u001b[49m\u001b[43minstance\u001b[49m\u001b[43m)\u001b[49m\n\u001b[1;32m    996\u001b[0m     \u001b[38;5;28;01mtry\u001b[39;00m:\n\u001b[1;32m    997\u001b[0m         cache[\u001b[38;5;28mself\u001b[39m\u001b[38;5;241m.\u001b[39mattrname] \u001b[38;5;241m=\u001b[39m val\n",
      "File \u001b[0;32m/Library/Frameworks/Python.framework/Versions/3.12/lib/python3.12/site-packages/great_expectations/validator/v1_validator.py:112\u001b[0m, in \u001b[0;36mValidator._wrapped_validator\u001b[0;34m(self)\u001b[0m\n\u001b[1;32m    110\u001b[0m \u001b[38;5;129m@cached_property\u001b[39m\n\u001b[1;32m    111\u001b[0m \u001b[38;5;28;01mdef\u001b[39;00m \u001b[38;5;21m_wrapped_validator\u001b[39m(\u001b[38;5;28mself\u001b[39m) \u001b[38;5;241m-\u001b[39m\u001b[38;5;241m>\u001b[39m OldValidator:\n\u001b[0;32m--> 112\u001b[0m     batch_request \u001b[38;5;241m=\u001b[39m \u001b[38;5;28;43mself\u001b[39;49m\u001b[38;5;241;43m.\u001b[39;49m\u001b[43m_batch_definition\u001b[49m\u001b[38;5;241;43m.\u001b[39;49m\u001b[43mbuild_batch_request\u001b[49m\u001b[43m(\u001b[49m\n\u001b[1;32m    113\u001b[0m \u001b[43m        \u001b[49m\u001b[43mbatch_parameters\u001b[49m\u001b[38;5;241;43m=\u001b[39;49m\u001b[38;5;28;43mself\u001b[39;49m\u001b[38;5;241;43m.\u001b[39;49m\u001b[43m_batch_parameters\u001b[49m\n\u001b[1;32m    114\u001b[0m \u001b[43m    \u001b[49m\u001b[43m)\u001b[49m\n\u001b[1;32m    115\u001b[0m     \u001b[38;5;28;01mreturn\u001b[39;00m \u001b[38;5;28mself\u001b[39m\u001b[38;5;241m.\u001b[39m_get_validator(batch_request\u001b[38;5;241m=\u001b[39mbatch_request)\n",
      "File \u001b[0;32m/Library/Frameworks/Python.framework/Versions/3.12/lib/python3.12/site-packages/great_expectations/core/batch_definition.py:64\u001b[0m, in \u001b[0;36mBatchDefinition.build_batch_request\u001b[0;34m(self, batch_parameters)\u001b[0m\n\u001b[1;32m     60\u001b[0m \u001b[38;5;28;01mdef\u001b[39;00m \u001b[38;5;21mbuild_batch_request\u001b[39m(\n\u001b[1;32m     61\u001b[0m     \u001b[38;5;28mself\u001b[39m, batch_parameters: Optional[BatchParameters] \u001b[38;5;241m=\u001b[39m \u001b[38;5;28;01mNone\u001b[39;00m\n\u001b[1;32m     62\u001b[0m ) \u001b[38;5;241m-\u001b[39m\u001b[38;5;241m>\u001b[39m BatchRequest[PartitionerT]:\n\u001b[1;32m     63\u001b[0m \u001b[38;5;250m    \u001b[39m\u001b[38;5;124;03m\"\"\"Build a BatchRequest from the asset and batch parameters.\"\"\"\u001b[39;00m\n\u001b[0;32m---> 64\u001b[0m     \u001b[38;5;28;01mreturn\u001b[39;00m \u001b[38;5;28;43mself\u001b[39;49m\u001b[38;5;241;43m.\u001b[39;49m\u001b[43mdata_asset\u001b[49m\u001b[38;5;241;43m.\u001b[39;49m\u001b[43mbuild_batch_request\u001b[49m\u001b[43m(\u001b[49m\n\u001b[1;32m     65\u001b[0m \u001b[43m        \u001b[49m\u001b[43moptions\u001b[49m\u001b[38;5;241;43m=\u001b[39;49m\u001b[43mbatch_parameters\u001b[49m\u001b[43m,\u001b[49m\n\u001b[1;32m     66\u001b[0m \u001b[43m        \u001b[49m\u001b[43mpartitioner\u001b[49m\u001b[38;5;241;43m=\u001b[39;49m\u001b[38;5;28;43mself\u001b[39;49m\u001b[38;5;241;43m.\u001b[39;49m\u001b[43mpartitioner\u001b[49m\u001b[43m,\u001b[49m\n\u001b[1;32m     67\u001b[0m \u001b[43m    \u001b[49m\u001b[43m)\u001b[49m\n",
      "File \u001b[0;32m/Library/Frameworks/Python.framework/Versions/3.12/lib/python3.12/site-packages/great_expectations/datasource/fluent/pandas_datasource.py:407\u001b[0m, in \u001b[0;36mDataFrameAsset.build_batch_request\u001b[0;34m(self, options, batch_slice, partitioner)\u001b[0m\n\u001b[1;32m    401\u001b[0m     \u001b[38;5;28;01mraise\u001b[39;00m BuildBatchRequestError(\n\u001b[1;32m    402\u001b[0m         message\u001b[38;5;241m=\u001b[39m\u001b[38;5;124m\"\u001b[39m\u001b[38;5;124mpartitioner is not currently supported  for this DataAsset\u001b[39m\u001b[38;5;124m\"\u001b[39m\n\u001b[1;32m    403\u001b[0m         \u001b[38;5;124m\"\u001b[39m\u001b[38;5;124mand must be None.\u001b[39m\u001b[38;5;124m\"\u001b[39m\n\u001b[1;32m    404\u001b[0m     )\n\u001b[1;32m    406\u001b[0m \u001b[38;5;28;01mif\u001b[39;00m \u001b[38;5;129;01mnot\u001b[39;00m (options \u001b[38;5;129;01mis\u001b[39;00m \u001b[38;5;129;01mnot\u001b[39;00m \u001b[38;5;28;01mNone\u001b[39;00m \u001b[38;5;129;01mand\u001b[39;00m \u001b[38;5;124m\"\u001b[39m\u001b[38;5;124mdataframe\u001b[39m\u001b[38;5;124m\"\u001b[39m \u001b[38;5;129;01min\u001b[39;00m options \u001b[38;5;129;01mand\u001b[39;00m \u001b[38;5;28mlen\u001b[39m(options) \u001b[38;5;241m==\u001b[39m \u001b[38;5;241m1\u001b[39m):\n\u001b[0;32m--> 407\u001b[0m     \u001b[38;5;28;01mraise\u001b[39;00m BuildBatchRequestError(message\u001b[38;5;241m=\u001b[39m\u001b[38;5;124m\"\u001b[39m\u001b[38;5;124moptions must contain exactly 1 key, \u001b[39m\u001b[38;5;124m'\u001b[39m\u001b[38;5;124mdataframe\u001b[39m\u001b[38;5;124m'\u001b[39m\u001b[38;5;124m.\u001b[39m\u001b[38;5;124m\"\u001b[39m)\n\u001b[1;32m    409\u001b[0m \u001b[38;5;28;01mif\u001b[39;00m \u001b[38;5;129;01mnot\u001b[39;00m \u001b[38;5;28misinstance\u001b[39m(options[\u001b[38;5;124m\"\u001b[39m\u001b[38;5;124mdataframe\u001b[39m\u001b[38;5;124m\"\u001b[39m], pd\u001b[38;5;241m.\u001b[39mDataFrame):\n\u001b[1;32m    410\u001b[0m     \u001b[38;5;28;01mraise\u001b[39;00m BuildBatchRequestError(\n\u001b[1;32m    411\u001b[0m         message\u001b[38;5;241m=\u001b[39m\u001b[38;5;124m\"\u001b[39m\u001b[38;5;124mCannot build batch request for dataframe asset without a dataframe\u001b[39m\u001b[38;5;124m\"\u001b[39m\n\u001b[1;32m    412\u001b[0m     )\n",
      "\u001b[0;31mBuildBatchRequestError\u001b[0m: Bad input to build_batch_request: options must contain exactly 1 key, 'dataframe'."
     ]
    },
    {
     "name": "stderr",
     "output_type": "stream",
     "text": [
      "/Library/Frameworks/Python.framework/Versions/3.12/lib/python3.12/site-packages/posthog/request.py:26: DeprecationWarning: datetime.datetime.utcnow() is deprecated and scheduled for removal in a future version. Use timezone-aware objects to represent datetimes in UTC: datetime.datetime.now(datetime.UTC).\n",
      "  body[\"sentAt\"] = datetime.utcnow().replace(tzinfo=tzutc()).isoformat()\n"
     ]
    }
   ],
   "source": [
    "import great_expectations as gx\n",
    "import pandas as pd\n",
    "\n",
    "# Step 1: Load Data\n",
    "df = pd.read_csv(\"./data/RE_technical_merged_2.csv\")\n",
    "\n",
    "# Step 2: Initialize GX Context\n",
    "context = gx.get_context()\n",
    "\n",
    "# Step 3: Add a Pandas Data Source\n",
    "data_source = context.data_sources.add_pandas(\"pandas_source3\")\n",
    "\n",
    "# Step 4: Add DataFrame as a Data Asset\n",
    "data_asset = data_source.add_dataframe_asset(name=\"pandas_asset\")\n",
    "\n",
    "# Step 5: Add Batch Definition\n",
    "batch_definition = data_asset.add_batch_definition_whole_dataframe(\"batch_definition\")\n",
    "\n",
    "# Step 6: Fetch the Batch\n",
    "batch = batch_definition.get_batch(batch_parameters={\"dataframe\": df})\n",
    "\n",
    "# Step 7: Define the Expectation Suite\n",
    "suite_name = \"expectation_suite12\"\n",
    "suite = gx.ExpectationSuite(name=suite_name)\n",
    "suite = context.suites.add(suite)\n",
    "\n",
    "\n",
    "expectation = gx.expectations.ExpectColumnValuesToBeBetween(\n",
    "    column=\"plf\",  # Make sure the column name is correct and matches the data\n",
    "    min_value=20,\n",
    "    max_value=35,\n",
    "    meta={\"notes\": \"Values between 20 and 35 are valid for `plf`.\"}\n",
    ")\n",
    "suite.add_expectation(expectation)\n",
    "\n",
    "\n",
    "definition_name = \"my_validation_definition\"\n",
    "validation_definition = gx.ValidationDefinition(\n",
    "    data=batch_definition, suite=suite, name=definition_name\n",
    ")\n",
    "validation_definition = context.validation_definitions.add(validation_definition)\n",
    "\n",
    "# Run the Validation Definition\n",
    "validation_results = validation_definition.run()\n",
    "\n",
    "# Review the Validation Results\n",
    "print(validation_results)\n"
   ]
  },
  {
   "cell_type": "code",
   "execution_count": 9,
   "id": "ee8dc26a-c4c0-4ef3-866c-ce88cdd9e796",
   "metadata": {
    "scrolled": true
   },
   "outputs": [
    {
     "data": {
      "text/plain": [
       "['Config',\n",
       " '__abstractmethods__',\n",
       " '__annotations__',\n",
       " '__class__',\n",
       " '__class_vars__',\n",
       " '__config__',\n",
       " '__custom_root_type__',\n",
       " '__delattr__',\n",
       " '__dict__',\n",
       " '__dir__',\n",
       " '__doc__',\n",
       " '__eq__',\n",
       " '__exclude_fields__',\n",
       " '__fields__',\n",
       " '__fields_set__',\n",
       " '__format__',\n",
       " '__ge__',\n",
       " '__get_validators__',\n",
       " '__getattribute__',\n",
       " '__getstate__',\n",
       " '__gt__',\n",
       " '__hash__',\n",
       " '__include_fields__',\n",
       " '__init__',\n",
       " '__init_subclass__',\n",
       " '__iter__',\n",
       " '__json_encoder__',\n",
       " '__le__',\n",
       " '__lt__',\n",
       " '__module__',\n",
       " '__ne__',\n",
       " '__new__',\n",
       " '__post_root_validators__',\n",
       " '__pre_root_validators__',\n",
       " '__pretty__',\n",
       " '__private_attributes__',\n",
       " '__reduce__',\n",
       " '__reduce_ex__',\n",
       " '__repr__',\n",
       " '__repr_args__',\n",
       " '__repr_name__',\n",
       " '__repr_str__',\n",
       " '__rich_repr__',\n",
       " '__schema_cache__',\n",
       " '__setattr__',\n",
       " '__setstate__',\n",
       " '__signature__',\n",
       " '__sizeof__',\n",
       " '__slots__',\n",
       " '__str__',\n",
       " '__subclasshook__',\n",
       " '__try_update_forward_refs__',\n",
       " '__validators__',\n",
       " '_abc_impl',\n",
       " '_add_to_store',\n",
       " '_calculate_keys',\n",
       " '_copy_and_set_values',\n",
       " '_decode_data',\n",
       " '_decode_suite',\n",
       " '_decompose_class',\n",
       " '_enforce_dict_if_root',\n",
       " '_get_expectation_suite_and_validation_result_ids',\n",
       " '_get_value',\n",
       " '_init_private_attributes',\n",
       " '_iter',\n",
       " '_validate_data',\n",
       " '_validate_suite',\n",
       " '_validation_results_store',\n",
       " 'asset',\n",
       " 'batch_definition',\n",
       " 'construct',\n",
       " 'copy',\n",
       " 'data',\n",
       " 'data_source',\n",
       " 'dict',\n",
       " 'from_orm',\n",
       " 'id',\n",
       " 'identifier_bundle',\n",
       " 'is_fresh',\n",
       " 'json',\n",
       " 'name',\n",
       " 'parse_file',\n",
       " 'parse_obj',\n",
       " 'parse_raw',\n",
       " 'run',\n",
       " 'save',\n",
       " 'schema',\n",
       " 'schema_json',\n",
       " 'suite',\n",
       " 'update_forward_refs',\n",
       " 'validate']"
      ]
     },
     "execution_count": 9,
     "metadata": {},
     "output_type": "execute_result"
    }
   ],
   "source": [
    "dir(validation_definition)"
   ]
  },
  {
   "cell_type": "code",
   "execution_count": 33,
   "id": "38c2978c-ced1-463d-bb3e-8c3cd1721d3b",
   "metadata": {
    "scrolled": true
   },
   "outputs": [
    {
     "data": {
      "text/plain": [
       "['Config',\n",
       " '__abstractmethods__',\n",
       " '__annotations__',\n",
       " '__class__',\n",
       " '__class_vars__',\n",
       " '__config__',\n",
       " '__custom_root_type__',\n",
       " '__delattr__',\n",
       " '__dict__',\n",
       " '__dir__',\n",
       " '__doc__',\n",
       " '__eq__',\n",
       " '__exclude_fields__',\n",
       " '__fields__',\n",
       " '__fields_set__',\n",
       " '__format__',\n",
       " '__ge__',\n",
       " '__get_validators__',\n",
       " '__getattribute__',\n",
       " '__getstate__',\n",
       " '__gt__',\n",
       " '__hash__',\n",
       " '__include_fields__',\n",
       " '__init__',\n",
       " '__init_subclass__',\n",
       " '__iter__',\n",
       " '__json_encoder__',\n",
       " '__le__',\n",
       " '__lt__',\n",
       " '__module__',\n",
       " '__ne__',\n",
       " '__new__',\n",
       " '__post_root_validators__',\n",
       " '__pre_root_validators__',\n",
       " '__pretty__',\n",
       " '__private_attributes__',\n",
       " '__reduce__',\n",
       " '__reduce_ex__',\n",
       " '__repr__',\n",
       " '__repr_args__',\n",
       " '__repr_name__',\n",
       " '__repr_str__',\n",
       " '__rich_repr__',\n",
       " '__schema_cache__',\n",
       " '__setattr__',\n",
       " '__setstate__',\n",
       " '__signature__',\n",
       " '__sizeof__',\n",
       " '__slots__',\n",
       " '__str__',\n",
       " '__subclasshook__',\n",
       " '__try_update_forward_refs__',\n",
       " '__validators__',\n",
       " '_abc_impl',\n",
       " '_add_to_store',\n",
       " '_calculate_keys',\n",
       " '_copy_and_set_values',\n",
       " '_decode_data',\n",
       " '_decode_suite',\n",
       " '_decompose_class',\n",
       " '_enforce_dict_if_root',\n",
       " '_get_expectation_suite_and_validation_result_ids',\n",
       " '_get_value',\n",
       " '_init_private_attributes',\n",
       " '_iter',\n",
       " '_validate_data',\n",
       " '_validate_suite',\n",
       " '_validation_results_store',\n",
       " 'asset',\n",
       " 'batch_definition',\n",
       " 'construct',\n",
       " 'copy',\n",
       " 'data',\n",
       " 'data_source',\n",
       " 'dict',\n",
       " 'from_orm',\n",
       " 'id',\n",
       " 'identifier_bundle',\n",
       " 'is_fresh',\n",
       " 'json',\n",
       " 'name',\n",
       " 'parse_file',\n",
       " 'parse_obj',\n",
       " 'parse_raw',\n",
       " 'run',\n",
       " 'save',\n",
       " 'schema',\n",
       " 'schema_json',\n",
       " 'suite',\n",
       " 'update_forward_refs',\n",
       " 'validate']"
      ]
     },
     "execution_count": 33,
     "metadata": {},
     "output_type": "execute_result"
    }
   ],
   "source": [
    "dir(validation_definition)"
   ]
  },
  {
   "cell_type": "code",
   "execution_count": 15,
   "id": "0708e743-e08e-4d01-b8f3-b47a1a42ff10",
   "metadata": {
    "scrolled": true
   },
   "outputs": [
    {
     "data": {
      "text/plain": [
       "['__call__',\n",
       " '__class__',\n",
       " '__delattr__',\n",
       " '__dir__',\n",
       " '__doc__',\n",
       " '__eq__',\n",
       " '__format__',\n",
       " '__func__',\n",
       " '__ge__',\n",
       " '__getattribute__',\n",
       " '__getstate__',\n",
       " '__gt__',\n",
       " '__hash__',\n",
       " '__init__',\n",
       " '__init_subclass__',\n",
       " '__le__',\n",
       " '__lt__',\n",
       " '__ne__',\n",
       " '__new__',\n",
       " '__reduce__',\n",
       " '__reduce_ex__',\n",
       " '__repr__',\n",
       " '__self__',\n",
       " '__setattr__',\n",
       " '__sizeof__',\n",
       " '__str__',\n",
       " '__subclasshook__',\n",
       " '__wrapped__',\n",
       " 'model',\n",
       " 'raw_function',\n",
       " 'validate',\n",
       " 'vd']"
      ]
     },
     "execution_count": 15,
     "metadata": {},
     "output_type": "execute_result"
    }
   ],
   "source": [
    "dir(batch.columns)"
   ]
  },
  {
   "cell_type": "code",
   "execution_count": 16,
   "id": "4b363dae-44c4-4204-b370-3063ac81dab6",
   "metadata": {},
   "outputs": [
    {
     "data": {
      "text/plain": [
       "<bound method ValidatedFunction.init_model_instance of <pydantic.v1.decorator.ValidatedFunction object at 0x179271eb0>>"
      ]
     },
     "execution_count": 16,
     "metadata": {},
     "output_type": "execute_result"
    }
   ],
   "source": [
    "batch.columns.validate"
   ]
  },
  {
   "cell_type": "code",
   "execution_count": 17,
   "id": "e2841f9f-0265-4076-b5fa-4eb2057fc63e",
   "metadata": {
    "scrolled": true
   },
   "outputs": [
    {
     "data": {
      "text/plain": [
       "['__annotations__',\n",
       " '__class__',\n",
       " '__contains__',\n",
       " '__deepcopy__',\n",
       " '__delattr__',\n",
       " '__delitem__',\n",
       " '__dict__',\n",
       " '__dir__',\n",
       " '__doc__',\n",
       " '__eq__',\n",
       " '__format__',\n",
       " '__ge__',\n",
       " '__getattribute__',\n",
       " '__getitem__',\n",
       " '__getstate__',\n",
       " '__gt__',\n",
       " '__hash__',\n",
       " '__init__',\n",
       " '__init_subclass__',\n",
       " '__le__',\n",
       " '__len__',\n",
       " '__lt__',\n",
       " '__module__',\n",
       " '__ne__',\n",
       " '__new__',\n",
       " '__reduce__',\n",
       " '__reduce_ex__',\n",
       " '__repr__',\n",
       " '__setattr__',\n",
       " '__setitem__',\n",
       " '__sizeof__',\n",
       " '__str__',\n",
       " '__subclasshook__',\n",
       " '__weakref__',\n",
       " '_add_expectation',\n",
       " '_build_expectation',\n",
       " '_expectations_are_equalish',\n",
       " '_find_expectation_indexes',\n",
       " '_has_been_saved',\n",
       " '_include_rendered_content',\n",
       " '_is_added',\n",
       " '_is_fresh',\n",
       " '_process_expectation',\n",
       " '_save_expectation',\n",
       " '_store',\n",
       " '_submit_expectation_created_event',\n",
       " 'add_expectation',\n",
       " 'add_expectation_configuration',\n",
       " 'add_expectation_configurations',\n",
       " 'delete_expectation',\n",
       " 'exclude_field_names',\n",
       " 'expectation_configurations',\n",
       " 'expectations',\n",
       " 'get',\n",
       " 'id',\n",
       " 'identifier_bundle',\n",
       " 'include_field_names',\n",
       " 'is_fresh',\n",
       " 'items',\n",
       " 'keys',\n",
       " 'meta',\n",
       " 'name',\n",
       " 'notes',\n",
       " 'property_names',\n",
       " 'remove_expectation',\n",
       " 'render',\n",
       " 'save',\n",
       " 'suite_parameter_options',\n",
       " 'suite_parameters',\n",
       " 'to_dict',\n",
       " 'to_json_dict',\n",
       " 'to_raw_dict',\n",
       " 'values']"
      ]
     },
     "execution_count": 17,
     "metadata": {},
     "output_type": "execute_result"
    }
   ],
   "source": [
    "dir(suite)"
   ]
  },
  {
   "cell_type": "code",
   "execution_count": 18,
   "id": "f20d7729-05fc-4ad4-b077-c74d02974323",
   "metadata": {
    "scrolled": true
   },
   "outputs": [
    {
     "data": {
      "text/plain": [
       "{\n",
       "  \"name\": \"expectation_suite12\",\n",
       "  \"id\": \"ba783a63-943d-41a8-8610-713544a41a9c\",\n",
       "  \"expectations\": [\n",
       "    {\n",
       "      \"type\": \"expect_column_values_to_be_between\",\n",
       "      \"kwargs\": {\n",
       "        \"column\": \"plf\",\n",
       "        \"min_value\": 20.0,\n",
       "        \"max_value\": 35.0\n",
       "      },\n",
       "      \"meta\": {\n",
       "        \"notes\": \"Values between 20 and 35 are valid for `plf`.\"\n",
       "      },\n",
       "      \"id\": \"6cbc16ed-eee5-40fd-8495-44caca74efe4\"\n",
       "    }\n",
       "  ],\n",
       "  \"meta\": {\n",
       "    \"great_expectations_version\": \"1.2.4\"\n",
       "  },\n",
       "  \"notes\": null\n",
       "}"
      ]
     },
     "execution_count": 18,
     "metadata": {},
     "output_type": "execute_result"
    }
   ],
   "source": [
    "suite"
   ]
  },
  {
   "cell_type": "code",
   "execution_count": null,
   "id": "aa3c66ee-f907-4573-afa5-6d39393c6aac",
   "metadata": {},
   "outputs": [],
   "source": [
    "import great_expectations as gx\n",
    "import pandas as pd\n",
    "\n",
    "# Step 1: Load Data\n",
    "df = pd.read_csv(\"./data/RE_technical_merged_2.csv\")\n",
    "\n",
    "# Step 2: Initialize GX Context\n",
    "context = gx.get_context()\n",
    "\n",
    "# Step 3: Add a Pandas Data Source\n",
    "# Note: If 'add_pandas' doesn't exist, make sure to use the correct method to add a datasource.\n",
    "data_source = context.data_sources.add_pandas(name=\"ds2\")\n",
    "\n",
    "# Step 4: Add DataFrame as a Data Asset\n",
    "# The asset is defined using the name \"pandas_asset\"\n",
    "data_asset = data_source.add_dataframe_asset(name=\"da2\")\n",
    "\n",
    "# Step 5: Add Batch Definition\n",
    "# Creating a batch definition for the whole dataframe\n",
    "batch_definition = data_asset.add_batch_definition_whole_dataframe(\"bd2\")\n",
    "\n",
    "# Step 6: Fetch the Batch\n",
    "# Ensure the batch is correctly fetched with parameters passed in a dict format\n",
    "batch = batch_definition.get_batch(batch_parameters={\"dataframe\": df})\n",
    "\n",
    "# Step 7: Define the Expectation Suite\n",
    "suite_name = \"e2\"\n",
    "suite = gx.ExpectationSuite(name=suite_name)\n",
    "\n",
    "# Add the expectation suite to the context\n",
    "suite = context.suites.add(suite)\n",
    "\n",
    "# Define an Expectation\n",
    "expectation = gx.expectations.ExpectColumnValuesToBeBetween(\n",
    "    column=\"plf\",  # Ensure this column name is correct and matches your dataset\n",
    "    min_value=20,\n",
    "    max_value=35,\n",
    "    meta={\"notes\": \"Values between 20 and 35 are valid for `plf`.\"}\n",
    ")\n",
    "\n",
    "# Add the expectation to the suite\n",
    "suite.add_expectation(expectation)"
   ]
  },
  {
   "cell_type": "code",
   "execution_count": null,
   "id": "bfa6d958-6253-4b68-93cc-ac9a47262ba4",
   "metadata": {
    "scrolled": true
   },
   "outputs": [],
   "source": [
    "# Step 8: Create and Add Validation Definition\n",
    "definition_name = \"vd4\"\n",
    "validation_definition = gx.ValidationDefinition(\n",
    "    data=batch_definition,  # Use 'batch' here as the actual data for validation\n",
    "    suite=suite,\n",
    "    name=definition_name\n",
    "    \n",
    ")\n",
    "\n",
    "# Add the validation definition to the context\n",
    "validation_definition = context.validation_definitions.add(validation_definition)"
   ]
  },
  {
   "cell_type": "code",
   "execution_count": 47,
   "id": "5440ca9d-5ac0-451d-9992-99f594ee4123",
   "metadata": {
    "scrolled": true
   },
   "outputs": [
    {
     "data": {
      "application/vnd.jupyter.widget-view+json": {
       "model_id": "99f1304d35ab4b9f977f1af802ba7bc5",
       "version_major": 2,
       "version_minor": 0
      },
      "text/plain": [
       "Calculating Metrics:   0%|          | 0/10 [00:00<?, ?it/s]"
      ]
     },
     "metadata": {},
     "output_type": "display_data"
    },
    {
     "name": "stdout",
     "output_type": "stream",
     "text": [
      "{\n",
      "  \"success\": false,\n",
      "  \"results\": [\n",
      "    {\n",
      "      \"success\": false,\n",
      "      \"expectation_config\": {\n",
      "        \"type\": \"expect_column_values_to_be_between\",\n",
      "        \"kwargs\": {\n",
      "          \"column\": \"plf\",\n",
      "          \"min_value\": 20.0,\n",
      "          \"max_value\": 35.0,\n",
      "          \"batch_id\": \"ds2-da2\"\n",
      "        },\n",
      "        \"meta\": {\n",
      "          \"notes\": \"Values between 20 and 35 are valid for `plf`.\"\n",
      "        },\n",
      "        \"id\": \"a907921c-33a8-4572-9c63-0430e63fdc3f\"\n",
      "      },\n",
      "      \"result\": {},\n",
      "      \"meta\": {},\n",
      "      \"exception_info\": {\n",
      "        \"exception_traceback\": \"Traceback (most recent call last):\\n  File \\\"/Library/Frameworks/Python.framework/Versions/3.12/lib/python3.12/site-packages/great_expectations/validator/validator.py\\\", line 650, in graph_validate\\n    result = expectation.metrics_validate(\\n             ^^^^^^^^^^^^^^^^^^^^^^^^^^^^^\\n  File \\\"/Library/Frameworks/Python.framework/Versions/3.12/lib/python3.12/site-packages/great_expectations/expectations/expectation.py\\\", line 1140, in metrics_validate\\n    _validate_dependencies_against_available_metrics(\\n  File \\\"/Library/Frameworks/Python.framework/Versions/3.12/lib/python3.12/site-packages/great_expectations/expectations/expectation.py\\\", line 2831, in _validate_dependencies_against_available_metrics\\n    raise InvalidExpectationConfigurationError(  # noqa: TRY003\\ngreat_expectations.exceptions.exceptions.InvalidExpectationConfigurationError: Metric ('column_values.nonnull.unexpected_count', '546a47c181368755aaf4fccd2a7498fa', ()) is not available for validation of configuration. Please check your configuration.\\n\",\n",
      "        \"exception_message\": \"Metric ('column_values.nonnull.unexpected_count', '546a47c181368755aaf4fccd2a7498fa', ()) is not available for validation of configuration. Please check your configuration.\",\n",
      "        \"raised_exception\": true\n",
      "      }\n",
      "    }\n",
      "  ],\n",
      "  \"suite_name\": \"e2\",\n",
      "  \"suite_parameters\": {},\n",
      "  \"statistics\": {\n",
      "    \"evaluated_expectations\": 1,\n",
      "    \"successful_expectations\": 0,\n",
      "    \"unsuccessful_expectations\": 1,\n",
      "    \"success_percent\": 0.0\n",
      "  },\n",
      "  \"meta\": {\n",
      "    \"great_expectations_version\": \"1.2.4\",\n",
      "    \"batch_spec\": {\n",
      "      \"batch_data\": \"PandasDataFrame\"\n",
      "    },\n",
      "    \"batch_markers\": {\n",
      "      \"ge_load_time\": \"20241202T124427.882689Z\",\n",
      "      \"pandas_data_fingerprint\": \"3a9e5529b99b86e6adf1d7dd454c7a71\"\n",
      "    },\n",
      "    \"active_batch_definition\": {\n",
      "      \"datasource_name\": \"ds2\",\n",
      "      \"data_connector_name\": \"fluent\",\n",
      "      \"data_asset_name\": \"da2\",\n",
      "      \"batch_identifiers\": {\n",
      "        \"dataframe\": \"<DATAFRAME>\"\n",
      "      }\n",
      "    },\n",
      "    \"validation_id\": \"dd68002a-3a68-41f7-a153-bb9ebdbfdafc\",\n",
      "    \"checkpoint_id\": null,\n",
      "    \"batch_parameters\": {\n",
      "      \"dataframe\": \"<DATAFRAME>\"\n",
      "    }\n",
      "  },\n",
      "  \"id\": null\n",
      "}\n"
     ]
    }
   ],
   "source": [
    "batch_parameters = {\"dataframe\": df}\n",
    "# Step 9: Run the Validation Definition\n",
    "validation_results = validation_definition.run(batch_parameters=batch_parameters)\n",
    "\n",
    "# Step 10: Review the Validation Results\n",
    "print(validation_results)"
   ]
  },
  {
   "cell_type": "code",
   "execution_count": 31,
   "id": "798d6f06-39f5-4562-9486-4f35cc38f754",
   "metadata": {
    "scrolled": true
   },
   "outputs": [],
   "source": [
    "batch_request = batch_definition.build_batch_request(batch_parameters={\"dataframe\":df})"
   ]
  },
  {
   "cell_type": "code",
   "execution_count": 48,
   "id": "47e5d3af-4b77-4e21-8cb9-cb6659173a65",
   "metadata": {
    "scrolled": true
   },
   "outputs": [
    {
     "data": {
      "text/plain": [
       "['__call__',\n",
       " '__class__',\n",
       " '__delattr__',\n",
       " '__dir__',\n",
       " '__doc__',\n",
       " '__eq__',\n",
       " '__format__',\n",
       " '__func__',\n",
       " '__ge__',\n",
       " '__getattribute__',\n",
       " '__getstate__',\n",
       " '__gt__',\n",
       " '__hash__',\n",
       " '__init__',\n",
       " '__init_subclass__',\n",
       " '__le__',\n",
       " '__lt__',\n",
       " '__ne__',\n",
       " '__new__',\n",
       " '__reduce__',\n",
       " '__reduce_ex__',\n",
       " '__repr__',\n",
       " '__self__',\n",
       " '__setattr__',\n",
       " '__sizeof__',\n",
       " '__str__',\n",
       " '__subclasshook__']"
      ]
     },
     "execution_count": 48,
     "metadata": {},
     "output_type": "execute_result"
    }
   ],
   "source": [
    "(validation_definition.run)"
   ]
  },
  {
   "cell_type": "code",
   "execution_count": 37,
   "id": "76b738e1-e9d3-4d19-b88a-2ec0536e1140",
   "metadata": {},
   "outputs": [
    {
     "ename": "AttributeError",
     "evalue": "module 'great_expectations' has no attribute 'Validator'",
     "output_type": "error",
     "traceback": [
      "\u001b[0;31m---------------------------------------------------------------------------\u001b[0m",
      "\u001b[0;31mAttributeError\u001b[0m                            Traceback (most recent call last)",
      "Cell \u001b[0;32mIn[37], line 1\u001b[0m\n\u001b[0;32m----> 1\u001b[0m validator \u001b[38;5;241m=\u001b[39m \u001b[43mgx\u001b[49m\u001b[38;5;241;43m.\u001b[39;49m\u001b[43mValidator\u001b[49m(\n\u001b[1;32m      2\u001b[0m     context\u001b[38;5;241m=\u001b[39mcontext,  \u001b[38;5;66;03m# GX context\u001b[39;00m\n\u001b[1;32m      3\u001b[0m     batch_request\u001b[38;5;241m=\u001b[39mbatch_request,\n\u001b[1;32m      4\u001b[0m     expectation_suite\u001b[38;5;241m=\u001b[39msuite  \u001b[38;5;66;03m# Expectation suite\u001b[39;00m\n\u001b[1;32m      5\u001b[0m )\n\u001b[1;32m      6\u001b[0m validation_results \u001b[38;5;241m=\u001b[39m validator\u001b[38;5;241m.\u001b[39mvalidate()\n",
      "\u001b[0;31mAttributeError\u001b[0m: module 'great_expectations' has no attribute 'Validator'"
     ]
    }
   ],
   "source": [
    "validator = gx.Validator(\n",
    "    context=context,  # GX context\n",
    "    batch_request=batch_request,\n",
    "    expectation_suite=suite  # Expectation suite\n",
    ")\n",
    "validation_results = validator.validate()\n"
   ]
  },
  {
   "cell_type": "code",
   "execution_count": 38,
   "id": "6967cb65-fa1a-4c53-a9ac-0e26d987d101",
   "metadata": {},
   "outputs": [
    {
     "name": "stdout",
     "output_type": "stream",
     "text": [
      "['Config', '__abstractmethods__', '__annotations__', '__class__', '__class_vars__', '__config__', '__custom_root_type__', '__delattr__', '__dict__', '__dir__', '__doc__', '__eq__', '__exclude_fields__', '__fields__', '__fields_set__', '__format__', '__ge__', '__get_validators__', '__getattribute__', '__getstate__', '__gt__', '__hash__', '__include_fields__', '__init__', '__init_subclass__', '__iter__', '__json_encoder__', '__le__', '__lt__', '__module__', '__ne__', '__new__', '__post_root_validators__', '__pre_root_validators__', '__pretty__', '__private_attributes__', '__reduce__', '__reduce_ex__', '__repr__', '__repr_args__', '__repr_name__', '__repr_str__', '__rich_repr__', '__schema_cache__', '__setattr__', '__setstate__', '__signature__', '__sizeof__', '__slots__', '__str__', '__subclasshook__', '__try_update_forward_refs__', '__validators__', '_abc_impl', '_add_to_store', '_calculate_keys', '_copy_and_set_values', '_decode_data', '_decode_suite', '_decompose_class', '_enforce_dict_if_root', '_get_expectation_suite_and_validation_result_ids', '_get_value', '_init_private_attributes', '_iter', '_validate_data', '_validate_suite', '_validation_results_store', 'asset', 'batch_definition', 'construct', 'copy', 'data_source', 'dict', 'from_orm', 'identifier_bundle', 'is_fresh', 'json', 'parse_file', 'parse_obj', 'parse_raw', 'run', 'save', 'schema', 'schema_json', 'update_forward_refs', 'validate']\n"
     ]
    }
   ],
   "source": [
    "print(dir(gx.ValidationDefinition))"
   ]
  },
  {
   "cell_type": "code",
   "execution_count": 39,
   "id": "ace55005-4340-43e2-8b86-b5667bb5627a",
   "metadata": {},
   "outputs": [
    {
     "name": "stdout",
     "output_type": "stream",
     "text": [
      "True\n"
     ]
    }
   ],
   "source": [
    "print(hasattr(validation_definition, 'run'))"
   ]
  },
  {
   "cell_type": "code",
   "execution_count": 49,
   "id": "f95ac2b0-2979-4319-bf74-18d73dc1a6b7",
   "metadata": {
    "scrolled": true
   },
   "outputs": [
    {
     "ename": "NoDataDocsError",
     "evalue": "No Data Docs found. Please check that you have run a checkpoint, and that the checkpoint has a UpdateDataDocsAction in its actions.",
     "output_type": "error",
     "traceback": [
      "\u001b[0;31m---------------------------------------------------------------------------\u001b[0m",
      "\u001b[0;31mNoDataDocsError\u001b[0m                           Traceback (most recent call last)",
      "Cell \u001b[0;32mIn[49], line 1\u001b[0m\n\u001b[0;32m----> 1\u001b[0m \u001b[43mcontext\u001b[49m\u001b[38;5;241;43m.\u001b[39;49m\u001b[43mopen_data_docs\u001b[49m\u001b[43m(\u001b[49m\u001b[43m)\u001b[49m\n",
      "File \u001b[0;32m/Library/Frameworks/Python.framework/Versions/3.12/lib/python3.12/site-packages/great_expectations/data_context/data_context/abstract_data_context.py:1585\u001b[0m, in \u001b[0;36mAbstractDataContext.open_data_docs\u001b[0;34m(self, resource_identifier, site_name, only_if_exists)\u001b[0m\n\u001b[1;32m   1567\u001b[0m \u001b[38;5;28;01mdef\u001b[39;00m \u001b[38;5;21mopen_data_docs\u001b[39m(\n\u001b[1;32m   1568\u001b[0m     \u001b[38;5;28mself\u001b[39m,\n\u001b[1;32m   1569\u001b[0m     resource_identifier: Optional[\u001b[38;5;28mstr\u001b[39m] \u001b[38;5;241m=\u001b[39m \u001b[38;5;28;01mNone\u001b[39;00m,\n\u001b[1;32m   1570\u001b[0m     site_name: Optional[\u001b[38;5;28mstr\u001b[39m] \u001b[38;5;241m=\u001b[39m \u001b[38;5;28;01mNone\u001b[39;00m,\n\u001b[1;32m   1571\u001b[0m     only_if_exists: \u001b[38;5;28mbool\u001b[39m \u001b[38;5;241m=\u001b[39m \u001b[38;5;28;01mTrue\u001b[39;00m,\n\u001b[1;32m   1572\u001b[0m ) \u001b[38;5;241m-\u001b[39m\u001b[38;5;241m>\u001b[39m \u001b[38;5;28;01mNone\u001b[39;00m:\n\u001b[1;32m   1573\u001b[0m \u001b[38;5;250m    \u001b[39m\u001b[38;5;124;03m\"\"\"\u001b[39;00m\n\u001b[1;32m   1574\u001b[0m \u001b[38;5;124;03m    A stdlib cross-platform way to open a file in a browser.\u001b[39;00m\n\u001b[1;32m   1575\u001b[0m \n\u001b[0;32m   (...)\u001b[0m\n\u001b[1;32m   1583\u001b[0m \u001b[38;5;124;03m        only_if_exists: Optionally specify flag to pass to \"self.get_docs_sites_urls()\".\u001b[39;00m\n\u001b[1;32m   1584\u001b[0m \u001b[38;5;124;03m    \"\"\"\u001b[39;00m\n\u001b[0;32m-> 1585\u001b[0m     \u001b[38;5;28;01mreturn\u001b[39;00m \u001b[38;5;28;43mself\u001b[39;49m\u001b[38;5;241;43m.\u001b[39;49m\u001b[43m_open_data_docs\u001b[49m\u001b[43m(\u001b[49m\n\u001b[1;32m   1586\u001b[0m \u001b[43m        \u001b[49m\u001b[43mresource_identifier\u001b[49m\u001b[38;5;241;43m=\u001b[39;49m\u001b[43mresource_identifier\u001b[49m\u001b[43m,\u001b[49m\n\u001b[1;32m   1587\u001b[0m \u001b[43m        \u001b[49m\u001b[43msite_name\u001b[49m\u001b[38;5;241;43m=\u001b[39;49m\u001b[43msite_name\u001b[49m\u001b[43m,\u001b[49m\n\u001b[1;32m   1588\u001b[0m \u001b[43m        \u001b[49m\u001b[43monly_if_exists\u001b[49m\u001b[38;5;241;43m=\u001b[39;49m\u001b[43monly_if_exists\u001b[49m\u001b[43m,\u001b[49m\n\u001b[1;32m   1589\u001b[0m \u001b[43m    \u001b[49m\u001b[43m)\u001b[49m\n",
      "File \u001b[0;32m/Library/Frameworks/Python.framework/Versions/3.12/lib/python3.12/site-packages/great_expectations/data_context/data_context/abstract_data_context.py:1606\u001b[0m, in \u001b[0;36mAbstractDataContext._open_data_docs\u001b[0;34m(self, resource_identifier, site_name, only_if_exists)\u001b[0m\n\u001b[1;32m   1603\u001b[0m urls_to_open \u001b[38;5;241m=\u001b[39m [url \u001b[38;5;28;01mfor\u001b[39;00m url \u001b[38;5;129;01min\u001b[39;00m nullable_urls \u001b[38;5;28;01mif\u001b[39;00m url \u001b[38;5;129;01mis\u001b[39;00m \u001b[38;5;129;01mnot\u001b[39;00m \u001b[38;5;28;01mNone\u001b[39;00m]\n\u001b[1;32m   1605\u001b[0m \u001b[38;5;28;01mif\u001b[39;00m \u001b[38;5;129;01mnot\u001b[39;00m urls_to_open:\n\u001b[0;32m-> 1606\u001b[0m     \u001b[38;5;28;01mraise\u001b[39;00m gx\u001b[38;5;241m.\u001b[39mexceptions\u001b[38;5;241m.\u001b[39mNoDataDocsError\n\u001b[1;32m   1608\u001b[0m \u001b[38;5;28;01mfor\u001b[39;00m url \u001b[38;5;129;01min\u001b[39;00m urls_to_open:\n\u001b[1;32m   1609\u001b[0m     logger\u001b[38;5;241m.\u001b[39mdebug(\u001b[38;5;124mf\u001b[39m\u001b[38;5;124m\"\u001b[39m\u001b[38;5;124mOpening Data Docs found here: \u001b[39m\u001b[38;5;132;01m{\u001b[39;00murl\u001b[38;5;132;01m}\u001b[39;00m\u001b[38;5;124m\"\u001b[39m)\n",
      "\u001b[0;31mNoDataDocsError\u001b[0m: No Data Docs found. Please check that you have run a checkpoint, and that the checkpoint has a UpdateDataDocsAction in its actions."
     ]
    }
   ],
   "source": [
    "context.open_data_docs()"
   ]
  },
  {
   "cell_type": "code",
   "execution_count": 65,
   "id": "367b95b7-3163-4761-9a51-2dae0b74aa47",
   "metadata": {
    "scrolled": true
   },
   "outputs": [
    {
     "data": {
      "text/plain": [
       "{\n",
       "  \"checkpoint_store_name\": \"checkpoint_store\",\n",
       "  \"config_variables_file_path\": \"uncommitted/config_variables.yml\",\n",
       "  \"config_version\": 4.0,\n",
       "  \"data_context_id\": \"f6989a05-9049-406e-84e5-bd34b3c9e7fd\",\n",
       "  \"data_docs_sites\": {\n",
       "    \"local_site\": {\n",
       "      \"class_name\": \"SiteBuilder\",\n",
       "      \"show_how_to_buttons\": true,\n",
       "      \"store_backend\": {\n",
       "        \"class_name\": \"TupleFilesystemStoreBackend\",\n",
       "        \"base_directory\": \"uncommitted/data_docs/local_site/\"\n",
       "      },\n",
       "      \"site_index_builder\": {\n",
       "        \"class_name\": \"DefaultSiteIndexBuilder\"\n",
       "      }\n",
       "    }\n",
       "  },\n",
       "  \"expectations_store_name\": \"expectations_store\",\n",
       "  \"fluent_datasources\": {},\n",
       "  \"plugins_directory\": \"plugins/\",\n",
       "  \"stores\": {\n",
       "    \"expectations_store\": {\n",
       "      \"class_name\": \"ExpectationsStore\",\n",
       "      \"store_backend\": {\n",
       "        \"class_name\": \"TupleFilesystemStoreBackend\",\n",
       "        \"base_directory\": \"expectations/\"\n",
       "      }\n",
       "    },\n",
       "    \"validation_results_store\": {\n",
       "      \"class_name\": \"ValidationResultsStore\",\n",
       "      \"store_backend\": {\n",
       "        \"class_name\": \"TupleFilesystemStoreBackend\",\n",
       "        \"base_directory\": \"uncommitted/validations/\"\n",
       "      }\n",
       "    },\n",
       "    \"checkpoint_store\": {\n",
       "      \"class_name\": \"CheckpointStore\",\n",
       "      \"store_backend\": {\n",
       "        \"class_name\": \"TupleFilesystemStoreBackend\",\n",
       "        \"suppress_store_backend_id\": true,\n",
       "        \"base_directory\": \"checkpoints/\"\n",
       "      }\n",
       "    },\n",
       "    \"validation_definition_store\": {\n",
       "      \"class_name\": \"ValidationDefinitionStore\",\n",
       "      \"store_backend\": {\n",
       "        \"class_name\": \"TupleFilesystemStoreBackend\",\n",
       "        \"base_directory\": \"validation_definitions/\"\n",
       "      }\n",
       "    }\n",
       "  },\n",
       "  \"validation_results_store_name\": \"validation_results_store\"\n",
       "}"
      ]
     },
     "execution_count": 65,
     "metadata": {},
     "output_type": "execute_result"
    }
   ],
   "source": [
    "context"
   ]
  },
  {
   "cell_type": "code",
   "execution_count": 64,
   "id": "7cdf3e00-be7b-4bc7-b44b-3e1cbb48b2fa",
   "metadata": {
    "scrolled": true
   },
   "outputs": [
    {
     "name": "stdout",
     "output_type": "stream",
     "text": [
      "[]\n"
     ]
    }
   ],
   "source": [
    "datasources = context.list_datasources()\n",
    "print(datasources)"
   ]
  },
  {
   "cell_type": "code",
   "execution_count": 63,
   "id": "2c377b59-a376-4fc6-9c4d-6439448b73a9",
   "metadata": {},
   "outputs": [],
   "source": [
    "context.delete_datasource('pandas_source2')\n",
    "context.delete_datasource('pandas_source3')\n",
    "context.delete_datasource('ds1')\n",
    "context.delete_datasource('ds2')\n"
   ]
  },
  {
   "cell_type": "code",
   "execution_count": 57,
   "id": "165c1902-8893-445e-a323-de7fcd7841ab",
   "metadata": {
    "scrolled": true
   },
   "outputs": [],
   "source": [
    "context.delete_datasource('pandas')"
   ]
  },
  {
   "cell_type": "code",
   "execution_count": 59,
   "id": "936a6f73-cada-401d-8c77-7bd796d245bb",
   "metadata": {},
   "outputs": [],
   "source": [
    "context.delete_datasource('pandas123')\n",
    "context.delete_datasource('pandas1234')\n",
    "context.delete_datasource('pandass')\n",
    "context.delete_datasource('pandassk')\n",
    "context.delete_datasource('pandasskk')\n",
    "context.delete_datasource('pas')\n",
    "context.delete_datasource('pandas_data_source')\n",
    "\n",
    "\n"
   ]
  },
  {
   "cell_type": "code",
   "execution_count": 61,
   "id": "0f137fc4-8849-411a-8bb1-2597e36d8a7a",
   "metadata": {},
   "outputs": [],
   "source": [
    "context.delete_datasource('pandas_datasource')\n",
    "context.delete_datasource('pandas_daturce')\n",
    "context.delete_datasource('pandas_source')\n",
    "context.delete_datasource('pandas_source1')\n",
    "\n"
   ]
  },
  {
   "cell_type": "code",
   "execution_count": 66,
   "id": "aec42fc4-63d3-485f-9192-b60452ef4cd9",
   "metadata": {},
   "outputs": [
    {
     "ename": "KeyError",
     "evalue": "'ds2'",
     "output_type": "error",
     "traceback": [
      "\u001b[0;31m---------------------------------------------------------------------------\u001b[0m",
      "\u001b[0;31mKeyError\u001b[0m                                  Traceback (most recent call last)",
      "Cell \u001b[0;32mIn[66], line 1\u001b[0m\n\u001b[0;32m----> 1\u001b[0m \u001b[43mcontext\u001b[49m\u001b[38;5;241;43m.\u001b[39;49m\u001b[43mdelete_datasource\u001b[49m\u001b[43m(\u001b[49m\u001b[38;5;124;43m'\u001b[39;49m\u001b[38;5;124;43mds2\u001b[39;49m\u001b[38;5;124;43m'\u001b[39;49m\u001b[43m)\u001b[49m\n",
      "File \u001b[0;32m/Library/Frameworks/Python.framework/Versions/3.12/lib/python3.12/site-packages/great_expectations/data_context/data_context/abstract_data_context.py:1021\u001b[0m, in \u001b[0;36mAbstractDataContext.delete_datasource\u001b[0;34m(self, name)\u001b[0m\n\u001b[1;32m   1018\u001b[0m \u001b[38;5;28;01mif\u001b[39;00m \u001b[38;5;129;01mnot\u001b[39;00m name:\n\u001b[1;32m   1019\u001b[0m     \u001b[38;5;28;01mraise\u001b[39;00m \u001b[38;5;167;01mValueError\u001b[39;00m(\u001b[38;5;124m\"\u001b[39m\u001b[38;5;124mDatasource names must be a datasource name\u001b[39m\u001b[38;5;124m\"\u001b[39m)  \u001b[38;5;66;03m# noqa: TRY003\u001b[39;00m\n\u001b[0;32m-> 1021\u001b[0m \u001b[38;5;28;43mself\u001b[39;49m\u001b[38;5;241;43m.\u001b[39;49m\u001b[43m_delete_fluent_datasource\u001b[49m\u001b[43m(\u001b[49m\u001b[43mname\u001b[49m\u001b[43m)\u001b[49m\n\u001b[1;32m   1023\u001b[0m \u001b[38;5;28mself\u001b[39m\u001b[38;5;241m.\u001b[39m_save_project_config()\n",
      "File \u001b[0;32m/Library/Frameworks/Python.framework/Versions/3.12/lib/python3.12/site-packages/great_expectations/data_context/data_context/abstract_data_context.py:619\u001b[0m, in \u001b[0;36mAbstractDataContext._delete_fluent_datasource\u001b[0;34m(self, name, _call_store)\u001b[0m\n\u001b[1;32m    617\u001b[0m     logger\u001b[38;5;241m.\u001b[39minfo(\u001b[38;5;124mf\u001b[39m\u001b[38;5;124m\"\u001b[39m\u001b[38;5;124mNo Datasource \u001b[39m\u001b[38;5;124m'\u001b[39m\u001b[38;5;132;01m{\u001b[39;00mname\u001b[38;5;132;01m}\u001b[39;00m\u001b[38;5;124m'\u001b[39m\u001b[38;5;124m to delete\u001b[39m\u001b[38;5;124m\"\u001b[39m)\n\u001b[1;32m    618\u001b[0m \u001b[38;5;28mself\u001b[39m\u001b[38;5;241m.\u001b[39mdata_sources\u001b[38;5;241m.\u001b[39mall()\u001b[38;5;241m.\u001b[39mpop(name, \u001b[38;5;28;01mNone\u001b[39;00m)\n\u001b[0;32m--> 619\u001b[0m \u001b[38;5;28;01mdel\u001b[39;00m \u001b[38;5;28;43mself\u001b[39;49m\u001b[38;5;241;43m.\u001b[39;49m\u001b[43mconfig\u001b[49m\u001b[38;5;241;43m.\u001b[39;49m\u001b[43mfluent_datasources\u001b[49m\u001b[43m[\u001b[49m\u001b[43mname\u001b[49m\u001b[43m]\u001b[49m\n",
      "\u001b[0;31mKeyError\u001b[0m: 'ds2'"
     ]
    }
   ],
   "source": [
    "\n",
    "context.delete_datasource('ds2')"
   ]
  },
  {
   "cell_type": "code",
   "execution_count": null,
   "id": "467bf241-af6e-44ba-98ca-0fb64a4676dd",
   "metadata": {},
   "outputs": [],
   "source": []
  }
 ],
 "metadata": {
  "kernelspec": {
   "display_name": "Python 3 (ipykernel)",
   "language": "python",
   "name": "python3"
  },
  "language_info": {
   "codemirror_mode": {
    "name": "ipython",
    "version": 3
   },
   "file_extension": ".py",
   "mimetype": "text/x-python",
   "name": "python",
   "nbconvert_exporter": "python",
   "pygments_lexer": "ipython3",
   "version": "3.12.3"
  }
 },
 "nbformat": 4,
 "nbformat_minor": 5
}
