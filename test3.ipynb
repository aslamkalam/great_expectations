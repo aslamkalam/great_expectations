{
 "cells": [
  {
   "cell_type": "code",
   "execution_count": 23,
   "id": "d80c56e7-3f77-4609-9802-199a5d76eb8e",
   "metadata": {},
   "outputs": [],
   "source": [
    "import great_expectations as gx\n",
    "import pandas as pd\n",
    "context = gx.get_context()"
   ]
  },
  {
   "cell_type": "code",
   "execution_count": 25,
   "id": "f7a024d8-60d3-4aa1-94af-184a34d8eebf",
   "metadata": {
    "scrolled": true
   },
   "outputs": [
    {
     "data": {
      "text/plain": [
       "{\n",
       "  \"checkpoint_store_name\": \"checkpoint_store\",\n",
       "  \"config_variables_file_path\": \"uncommitted/config_variables.yml\",\n",
       "  \"config_version\": 4.0,\n",
       "  \"data_context_id\": \"7b50778a-db42-43d6-8859-b869390232d3\",\n",
       "  \"data_docs_sites\": {\n",
       "    \"local_site\": {\n",
       "      \"class_name\": \"SiteBuilder\",\n",
       "      \"show_how_to_buttons\": true,\n",
       "      \"store_backend\": {\n",
       "        \"class_name\": \"TupleFilesystemStoreBackend\",\n",
       "        \"base_directory\": \"uncommitted/data_docs/local_site/\"\n",
       "      },\n",
       "      \"site_index_builder\": {\n",
       "        \"class_name\": \"DefaultSiteIndexBuilder\"\n",
       "      }\n",
       "    }\n",
       "  },\n",
       "  \"expectations_store_name\": \"expectations_store\",\n",
       "  \"fluent_datasources\": {},\n",
       "  \"plugins_directory\": \"plugins/\",\n",
       "  \"stores\": {\n",
       "    \"expectations_store\": {\n",
       "      \"class_name\": \"ExpectationsStore\",\n",
       "      \"store_backend\": {\n",
       "        \"class_name\": \"TupleFilesystemStoreBackend\",\n",
       "        \"base_directory\": \"expectations/\"\n",
       "      }\n",
       "    },\n",
       "    \"validation_results_store\": {\n",
       "      \"class_name\": \"ValidationResultsStore\",\n",
       "      \"store_backend\": {\n",
       "        \"class_name\": \"TupleFilesystemStoreBackend\",\n",
       "        \"base_directory\": \"uncommitted/validations/\"\n",
       "      }\n",
       "    },\n",
       "    \"checkpoint_store\": {\n",
       "      \"class_name\": \"CheckpointStore\",\n",
       "      \"store_backend\": {\n",
       "        \"class_name\": \"TupleFilesystemStoreBackend\",\n",
       "        \"suppress_store_backend_id\": true,\n",
       "        \"base_directory\": \"checkpoints/\"\n",
       "      }\n",
       "    },\n",
       "    \"validation_definition_store\": {\n",
       "      \"class_name\": \"ValidationDefinitionStore\",\n",
       "      \"store_backend\": {\n",
       "        \"class_name\": \"TupleFilesystemStoreBackend\",\n",
       "        \"base_directory\": \"validation_definitions/\"\n",
       "      }\n",
       "    }\n",
       "  },\n",
       "  \"validation_results_store_name\": \"validation_results_store\"\n",
       "}"
      ]
     },
     "execution_count": 25,
     "metadata": {},
     "output_type": "execute_result"
    }
   ],
   "source": [
    "context"
   ]
  },
  {
   "cell_type": "code",
   "execution_count": 28,
   "id": "77c9fd44-38f8-48e6-a302-e462cd7263e7",
   "metadata": {},
   "outputs": [],
   "source": [
    "# Step 1: Load Data\n",
    "df = pd.read_csv(\"./data/wind_updated_file1.csv\")"
   ]
  },
  {
   "cell_type": "code",
   "execution_count": 29,
   "id": "ee75af32-104e-46cf-ae61-1d85bf514a98",
   "metadata": {},
   "outputs": [
    {
     "name": "stderr",
     "output_type": "stream",
     "text": [
      "/Library/Frameworks/Python.framework/Versions/3.12/lib/python3.12/site-packages/posthog/client.py:310: DeprecationWarning: datetime.datetime.utcnow() is deprecated and scheduled for removal in a future version. Use timezone-aware objects to represent datetimes in UTC: datetime.datetime.now(datetime.UTC).\n",
      "  timestamp = datetime.utcnow().replace(tzinfo=tzutc())\n",
      "/Library/Frameworks/Python.framework/Versions/3.12/lib/python3.12/site-packages/posthog/request.py:26: DeprecationWarning: datetime.datetime.utcnow() is deprecated and scheduled for removal in a future version. Use timezone-aware objects to represent datetimes in UTC: datetime.datetime.now(datetime.UTC).\n",
      "  body[\"sentAt\"] = datetime.utcnow().replace(tzinfo=tzutc()).isoformat()\n"
     ]
    }
   ],
   "source": [
    "context = gx.get_context()\n",
    "\n",
    "# Step 3: Add a Pandas Data Source\n",
    "# Note: If 'add_pandas' doesn't exist, make sure to use the correct method to add a datasource.\n",
    "data_source = context.data_sources.add_pandas(name=\"ds1\")\n",
    "\n",
    "# Step 4: Add DataFrame as a Data Asset\n",
    "# The asset is defined using the name \"pandas_asset\"\n",
    "data_asset = data_source.add_dataframe_asset(name=\"da1\")\n",
    "\n",
    "# Step 5: Add Batch Definition\n",
    "# Creating a batch definition for the whole dataframe\n",
    "batch_definition = data_asset.add_batch_definition_whole_dataframe(\"bd1\")\n"
   ]
  },
  {
   "cell_type": "code",
   "execution_count": 30,
   "id": "ae241c0e-d1a6-4437-a6ff-72a7020572c6",
   "metadata": {},
   "outputs": [
    {
     "data": {
      "text/plain": [
       "ExpectColumnValuesToBeBetween(id=None, meta={'notes': 'Values between 20 and 35 are valid for `plf`.'}, notes=None, result_format=<ResultFormat.BASIC: 'BASIC'>, description=None, catch_exceptions=True, rendered_content=None, windows=None, batch_id=None, column='plf', mostly=1, row_condition=None, condition_parser=None, min_value=20.0, max_value=35.0, strict_min=False, strict_max=False)"
      ]
     },
     "execution_count": 30,
     "metadata": {},
     "output_type": "execute_result"
    }
   ],
   "source": [
    "suite_name = \"es1\"\n",
    "suite = gx.ExpectationSuite(name=suite_name)\n",
    "\n",
    "# Add the expectation suite to the context\n",
    "suite = context.suites.add(suite)\n",
    "\n",
    "\n",
    "e1 = gx.expectations.ExpectColumnValuesToBeBetween(\n",
    "    column=\"plf\",  # Ensure this column name is correct and matches your dataset\n",
    "    min_value=20,\n",
    "    max_value=35,\n",
    "    meta={\"notes\": \"Values between 20 and 35 are valid for `plf`.\"}\n",
    ")\n",
    "e2 = gx.expectations.ExpectColumnValuesToBeBetween(\n",
    "    column=\"plf\",  # Make sure the column name is correct and matches the data\n",
    "    min_value=20,\n",
    "    max_value=35,\n",
    "    meta={\"notes\": \"Values between 20 and 35 are valid for `plf`.\"}\n",
    ")\n",
    "suite.add_expectation(e1)\n",
    "\n",
    "# Add the expectation to the suite\n",
    "suite.add_expectation(e2)"
   ]
  },
  {
   "cell_type": "code",
   "execution_count": 31,
   "id": "5df45372-0a27-4e35-8951-23063f45b50c",
   "metadata": {},
   "outputs": [],
   "source": [
    "definition_name = \"vd1\"\n",
    "validation_definition = gx.ValidationDefinition(\n",
    "    data=batch_definition,  # Use 'batch' here as the actual data for validation\n",
    "    suite=suite,\n",
    "    name=definition_name\n",
    "    \n",
    ")\n",
    "\n",
    "# Add the validation definition to the context\n",
    "validation_definition = context.validation_definitions.add(validation_definition)"
   ]
  },
  {
   "cell_type": "code",
   "execution_count": null,
   "id": "3b47d509-f81a-4e6c-b084-927e89bfb646",
   "metadata": {},
   "outputs": [],
   "source": [
    "# batch_parameters = {\"dataframe\": df}\n",
    "# # Step 9: Run the Validation Definition\n",
    "# validation_results = validation_definition.run(batch_parameters=batch_parameters)\n",
    "\n",
    "# # Step 10: Review the Validation Results\n",
    "# print(validation_results)"
   ]
  },
  {
   "cell_type": "code",
   "execution_count": null,
   "id": "db919326-5d6c-4eb2-ab7d-70ec041fa3bf",
   "metadata": {},
   "outputs": [],
   "source": [
    "import great_expectations as gx\n",
    "from great_expectations.checkpoint import (\n",
    "    MicrosoftTeamsNotificationAction,\n",
    "    UpdateDataDocsAction,\n",
    ")\n",
    "\n",
    "\n",
    "# Create a list of one or more Validation Definitions for the Checkpoint to run\n",
    "validation_definitions = [\n",
    "    context.validation_definitions.get(\"vd1\")\n",
    "]"
   ]
  },
  {
   "cell_type": "code",
   "execution_count": 42,
   "id": "a45b524a-8ae8-4bca-9952-0064b89aad1e",
   "metadata": {},
   "outputs": [
    {
     "data": {
      "text/plain": [
       "Checkpoint(name='teams_notifications_checkpoint2', validation_definitions=[ValidationDefinition(name='vd1', data=BatchDefinition(id=UUID('bea83117-6e1c-4ae9-bda8-1d70c456ca4c'), name='bd1', partitioner=None), suite={\n",
       "  \"name\": \"es1\",\n",
       "  \"id\": \"a6038641-9e67-4db1-abd7-5c0db46567ea\",\n",
       "  \"expectations\": [\n",
       "    {\n",
       "      \"type\": \"expect_column_values_to_be_between\",\n",
       "      \"kwargs\": {\n",
       "        \"column\": \"plf\",\n",
       "        \"min_value\": 20.0,\n",
       "        \"max_value\": 35.0\n",
       "      },\n",
       "      \"meta\": {\n",
       "        \"notes\": \"Values between 20 and 35 are valid for `plf`.\"\n",
       "      },\n",
       "      \"id\": \"fdb6714e-2e92-40d7-a5d6-739ecca1e98b\"\n",
       "    }\n",
       "  ],\n",
       "  \"meta\": {\n",
       "    \"great_expectations_version\": \"1.2.4\"\n",
       "  },\n",
       "  \"notes\": null\n",
       "}, id='97c002df-7a83-40ad-9b87-1893dce097db')], actions=[MicrosoftTeamsNotificationAction(type='microsoft', name='send_teams_notification', teams_webhook='https://sustainabilityeconomics736.webhook.office.com/webhookb2/3c4e89fb-5045-4b2f-9623-977b9e118f7d@a8606430-fd02-4b66-b04e-e614589bb5ae/IncomingWebhook/b92a1af86433472689f0ab8a7547d535/861906e0-eea2-4460-b1d0-099f375856b3/V2F6iHE8JUnVF62SMSgT91RQDYNuCZ71HKBFiTiNBZx581', notify_on='success', renderer=<great_expectations.render.renderer.microsoft_teams_renderer.MicrosoftTeamsRenderer object at 0x1223e41d0>), UpdateDataDocsAction(type='update_data_docs', name='update_all_data_docs', site_names=[])], result_format={'result_format': 'COMPLETE'}, id='02407ed0-1d87-4f34-a0b2-bc5c157b6fd9')"
      ]
     },
     "execution_count": 42,
     "metadata": {},
     "output_type": "execute_result"
    }
   ],
   "source": [
    "# Define the Microsoft Teams webhook URL\n",
    "teams_webhook_url = \"https://sustainabilityeconomics736.webhook.office.com/webhookb2/3c4e89fb-5045-4b2f-9623-977b9e118f7d@a8606430-fd02-4b66-b04e-e614589bb5ae/IncomingWebhook/b92a1af86433472689f0ab8a7547d535/861906e0-eea2-4460-b1d0-099f375856b3/V2F6iHE8JUnVF62SMSgT91RQDYNuCZ71HKBFiTiNBZx581\"  # Replace with your Teams webhook\n",
    "\n",
    "# Create a list of Actions for the Checkpoint to perform\n",
    "action_list = [\n",
    "    # Microsoft Teams Notification Action\n",
    "    MicrosoftTeamsNotificationAction(\n",
    "        name=\"send_teams_notification\",\n",
    "        teams_webhook=teams_webhook_url,\n",
    "        notify_on=\"success\",  # Trigger notification on \"failure\"\n",
    "    ),\n",
    "    # Update Data Docs Action\n",
    "    UpdateDataDocsAction(\n",
    "        name=\"update_all_data_docs\",\n",
    "    ),\n",
    "]\n",
    "\n",
    "# Create the Checkpoint\n",
    "checkpoint_name = \"teams_notifications_checkpoint2\"\n",
    "checkpoint = gx.Checkpoint(\n",
    "    name=checkpoint_name,\n",
    "    validation_definitions=validation_definitions,\n",
    "    actions=action_list,\n",
    "    result_format={\"result_format\": \"COMPLETE\"},\n",
    ")\n",
    "\n",
    "# Save the Checkpoint to the Data Context\n",
    "context.checkpoints.add(checkpoint)"
   ]
  },
  {
   "cell_type": "code",
   "execution_count": 43,
   "id": "cb97cf7d-5f8a-4939-8175-85d90477d82d",
   "metadata": {
    "scrolled": true
   },
   "outputs": [
    {
     "data": {
      "application/vnd.jupyter.widget-view+json": {
       "model_id": "9134175fecd14caba54a25d262510931",
       "version_major": 2,
       "version_minor": 0
      },
      "text/plain": [
       "Calculating Metrics:   0%|          | 0/10 [00:00<?, ?it/s]"
      ]
     },
     "metadata": {},
     "output_type": "display_data"
    },
    {
     "name": "stdout",
     "output_type": "stream",
     "text": [
      "Checkpoint results: run_id={\"run_name\": null, \"run_time\": \"2024-12-04T10:15:17.542838+05:30\"} run_results={ValidationResultIdentifier::es1/__none__/20241204T044517.542838Z/ds1-da1: {\n",
      "  \"success\": true,\n",
      "  \"results\": [\n",
      "    {\n",
      "      \"success\": true,\n",
      "      \"expectation_config\": {\n",
      "        \"type\": \"expect_column_values_to_be_between\",\n",
      "        \"kwargs\": {\n",
      "          \"batch_id\": \"ds1-da1\",\n",
      "          \"column\": \"plf\",\n",
      "          \"min_value\": 20.0,\n",
      "          \"max_value\": 35.0\n",
      "        },\n",
      "        \"meta\": {\n",
      "          \"notes\": \"Values between 20 and 35 are valid for `plf`.\"\n",
      "        },\n",
      "        \"id\": \"fdb6714e-2e92-40d7-a5d6-739ecca1e98b\"\n",
      "      },\n",
      "      \"result\": {\n",
      "        \"element_count\": 63,\n",
      "        \"unexpected_count\": 0,\n",
      "        \"unexpected_percent\": 0.0,\n",
      "        \"partial_unexpected_list\": [],\n",
      "        \"missing_count\": 0,\n",
      "        \"missing_percent\": 0.0,\n",
      "        \"unexpected_percent_total\": 0.0,\n",
      "        \"unexpected_percent_nonmissing\": 0.0,\n",
      "        \"partial_unexpected_counts\": [],\n",
      "        \"partial_unexpected_index_list\": [],\n",
      "        \"unexpected_list\": [],\n",
      "        \"unexpected_index_list\": [],\n",
      "        \"unexpected_index_query\": \"df.filter(items=[], axis=0)\"\n",
      "      },\n",
      "      \"meta\": {},\n",
      "      \"exception_info\": {\n",
      "        \"raised_exception\": false,\n",
      "        \"exception_traceback\": null,\n",
      "        \"exception_message\": null\n",
      "      }\n",
      "    }\n",
      "  ],\n",
      "  \"suite_name\": \"es1\",\n",
      "  \"suite_parameters\": {},\n",
      "  \"statistics\": {\n",
      "    \"evaluated_expectations\": 1,\n",
      "    \"successful_expectations\": 1,\n",
      "    \"unsuccessful_expectations\": 0,\n",
      "    \"success_percent\": 100.0\n",
      "  },\n",
      "  \"meta\": {\n",
      "    \"great_expectations_version\": \"1.2.4\",\n",
      "    \"batch_spec\": {\n",
      "      \"batch_data\": \"PandasDataFrame\"\n",
      "    },\n",
      "    \"batch_markers\": {\n",
      "      \"ge_load_time\": \"20241204T044517.544977Z\",\n",
      "      \"pandas_data_fingerprint\": \"ecda9a72858e69fc82161411c955e60d\"\n",
      "    },\n",
      "    \"active_batch_definition\": {\n",
      "      \"datasource_name\": \"ds1\",\n",
      "      \"data_connector_name\": \"fluent\",\n",
      "      \"data_asset_name\": \"da1\",\n",
      "      \"batch_identifiers\": {\n",
      "        \"dataframe\": \"<DATAFRAME>\"\n",
      "      }\n",
      "    },\n",
      "    \"validation_id\": \"97c002df-7a83-40ad-9b87-1893dce097db\",\n",
      "    \"checkpoint_id\": \"02407ed0-1d87-4f34-a0b2-bc5c157b6fd9\",\n",
      "    \"run_id\": {\n",
      "      \"run_name\": null,\n",
      "      \"run_time\": \"2024-12-04T10:15:17.542838+05:30\"\n",
      "    },\n",
      "    \"validation_time\": \"2024-12-04T04:45:17.542838+00:00\",\n",
      "    \"batch_parameters\": {\n",
      "      \"dataframe\": \"<DATAFRAME>\"\n",
      "    }\n",
      "  },\n",
      "  \"id\": null\n",
      "}} checkpoint_config=Checkpoint(name='teams_notifications_checkpoint2', validation_definitions=[ValidationDefinition(name='vd1', data=BatchDefinition(id=UUID('bea83117-6e1c-4ae9-bda8-1d70c456ca4c'), name='bd1', partitioner=None), suite={\n",
      "  \"name\": \"es1\",\n",
      "  \"id\": \"a6038641-9e67-4db1-abd7-5c0db46567ea\",\n",
      "  \"expectations\": [\n",
      "    {\n",
      "      \"type\": \"expect_column_values_to_be_between\",\n",
      "      \"kwargs\": {\n",
      "        \"column\": \"plf\",\n",
      "        \"min_value\": 20.0,\n",
      "        \"max_value\": 35.0\n",
      "      },\n",
      "      \"meta\": {\n",
      "        \"notes\": \"Values between 20 and 35 are valid for `plf`.\"\n",
      "      },\n",
      "      \"id\": \"fdb6714e-2e92-40d7-a5d6-739ecca1e98b\"\n",
      "    }\n",
      "  ],\n",
      "  \"meta\": {\n",
      "    \"great_expectations_version\": \"1.2.4\"\n",
      "  },\n",
      "  \"notes\": null\n",
      "}, id='97c002df-7a83-40ad-9b87-1893dce097db')], actions=[MicrosoftTeamsNotificationAction(type='microsoft', name='send_teams_notification', teams_webhook='https://sustainabilityeconomics736.webhook.office.com/webhookb2/3c4e89fb-5045-4b2f-9623-977b9e118f7d@a8606430-fd02-4b66-b04e-e614589bb5ae/IncomingWebhook/b92a1af86433472689f0ab8a7547d535/861906e0-eea2-4460-b1d0-099f375856b3/V2F6iHE8JUnVF62SMSgT91RQDYNuCZ71HKBFiTiNBZx581', notify_on='success', renderer=<great_expectations.render.renderer.microsoft_teams_renderer.MicrosoftTeamsRenderer object at 0x1223eaab0>), UpdateDataDocsAction(type='update_data_docs', name='update_all_data_docs', site_names=[])], result_format={'result_format': 'COMPLETE'}, id='02407ed0-1d87-4f34-a0b2-bc5c157b6fd9') success=True\n"
     ]
    },
    {
     "name": "stderr",
     "output_type": "stream",
     "text": [
      "/Library/Frameworks/Python.framework/Versions/3.12/lib/python3.12/site-packages/posthog/client.py:310: DeprecationWarning: datetime.datetime.utcnow() is deprecated and scheduled for removal in a future version. Use timezone-aware objects to represent datetimes in UTC: datetime.datetime.now(datetime.UTC).\n",
      "  timestamp = datetime.utcnow().replace(tzinfo=tzutc())\n",
      "/Library/Frameworks/Python.framework/Versions/3.12/lib/python3.12/site-packages/posthog/request.py:26: DeprecationWarning: datetime.datetime.utcnow() is deprecated and scheduled for removal in a future version. Use timezone-aware objects to represent datetimes in UTC: datetime.datetime.now(datetime.UTC).\n",
      "  body[\"sentAt\"] = datetime.utcnow().replace(tzinfo=tzutc()).isoformat()\n"
     ]
    }
   ],
   "source": [
    "# Retrieve the Checkpoint later\n",
    "checkpoint_name = \"teams_notifications_checkpoint2\"\n",
    "checkpoint = context.checkpoints.get(checkpoint_name)\n",
    "\n",
    "batch_parameters = {\"dataframe\": df}\n",
    "\n",
    "# Run the Checkpoint\n",
    "results = checkpoint.run(batch_parameters=batch_parameters)\n",
    "\n",
    "# Output the results\n",
    "print(\"Checkpoint results:\", results)"
   ]
  },
  {
   "cell_type": "code",
   "execution_count": 44,
   "id": "787b7329-2e82-4104-a3ea-c59b7fd928fd",
   "metadata": {},
   "outputs": [],
   "source": [
    "context.open_data_docs()"
   ]
  },
  {
   "cell_type": "code",
   "execution_count": null,
   "id": "6330f290-dc39-437b-ab5d-c027ba9afe4d",
   "metadata": {},
   "outputs": [],
   "source": []
  }
 ],
 "metadata": {
  "kernelspec": {
   "display_name": "Python 3 (ipykernel)",
   "language": "python",
   "name": "python3"
  },
  "language_info": {
   "codemirror_mode": {
    "name": "ipython",
    "version": 3
   },
   "file_extension": ".py",
   "mimetype": "text/x-python",
   "name": "python",
   "nbconvert_exporter": "python",
   "pygments_lexer": "ipython3",
   "version": "3.12.3"
  }
 },
 "nbformat": 4,
 "nbformat_minor": 5
}
