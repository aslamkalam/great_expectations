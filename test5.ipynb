{
 "cells": [
  {
   "cell_type": "markdown",
   "id": "43945b56-9bf5-4142-98cd-c9e4a4beba22",
   "metadata": {},
   "source": [
    "### Create a Context"
   ]
  },
  {
   "cell_type": "code",
   "execution_count": 3,
   "id": "84087273-1975-4f39-9351-9d6d0445aa40",
   "metadata": {},
   "outputs": [],
   "source": [
    "import pandas as pd\n",
    "from great_expectations.checkpoint import (\n",
    "    MicrosoftTeamsNotificationAction,\n",
    "    UpdateDataDocsAction,\n",
    ")"
   ]
  },
  {
   "cell_type": "code",
   "execution_count": 2,
   "id": "ccfdc77d-2be3-41ed-b575-1ac0ec334761",
   "metadata": {
    "scrolled": true
   },
   "outputs": [
    {
     "name": "stdout",
     "output_type": "stream",
     "text": [
      "{\n",
      "  \"checkpoint_store_name\": \"checkpoint_store\",\n",
      "  \"config_variables_file_path\": \"uncommitted/config_variables.yml\",\n",
      "  \"config_version\": 4.0,\n",
      "  \"data_context_id\": \"5f6c7a29-8b37-49b8-91f2-ba0e9882d5bb\",\n",
      "  \"data_docs_sites\": {\n",
      "    \"local_site\": {\n",
      "      \"class_name\": \"SiteBuilder\",\n",
      "      \"show_how_to_buttons\": true,\n",
      "      \"store_backend\": {\n",
      "        \"class_name\": \"TupleFilesystemStoreBackend\",\n",
      "        \"base_directory\": \"uncommitted/data_docs/local_site/\"\n",
      "      },\n",
      "      \"site_index_builder\": {\n",
      "        \"class_name\": \"DefaultSiteIndexBuilder\"\n",
      "      }\n",
      "    }\n",
      "  },\n",
      "  \"expectations_store_name\": \"expectations_store\",\n",
      "  \"fluent_datasources\": {},\n",
      "  \"plugins_directory\": \"plugins/\",\n",
      "  \"stores\": {\n",
      "    \"expectations_store\": {\n",
      "      \"class_name\": \"ExpectationsStore\",\n",
      "      \"store_backend\": {\n",
      "        \"class_name\": \"TupleFilesystemStoreBackend\",\n",
      "        \"base_directory\": \"expectations/\"\n",
      "      }\n",
      "    },\n",
      "    \"validation_results_store\": {\n",
      "      \"class_name\": \"ValidationResultsStore\",\n",
      "      \"store_backend\": {\n",
      "        \"class_name\": \"TupleFilesystemStoreBackend\",\n",
      "        \"base_directory\": \"uncommitted/validations/\"\n",
      "      }\n",
      "    },\n",
      "    \"checkpoint_store\": {\n",
      "      \"class_name\": \"CheckpointStore\",\n",
      "      \"store_backend\": {\n",
      "        \"class_name\": \"TupleFilesystemStoreBackend\",\n",
      "        \"suppress_store_backend_id\": true,\n",
      "        \"base_directory\": \"checkpoints/\"\n",
      "      }\n",
      "    },\n",
      "    \"validation_definition_store\": {\n",
      "      \"class_name\": \"ValidationDefinitionStore\",\n",
      "      \"store_backend\": {\n",
      "        \"class_name\": \"TupleFilesystemStoreBackend\",\n",
      "        \"base_directory\": \"validation_definitions/\"\n",
      "      }\n",
      "    }\n",
      "  },\n",
      "  \"validation_results_store_name\": \"validation_results_store\"\n",
      "}\n"
     ]
    },
    {
     "name": "stderr",
     "output_type": "stream",
     "text": [
      "/Library/Frameworks/Python.framework/Versions/3.12/lib/python3.12/site-packages/posthog/client.py:310: DeprecationWarning: datetime.datetime.utcnow() is deprecated and scheduled for removal in a future version. Use timezone-aware objects to represent datetimes in UTC: datetime.datetime.now(datetime.UTC).\n",
      "  timestamp = datetime.utcnow().replace(tzinfo=tzutc())\n",
      "/Library/Frameworks/Python.framework/Versions/3.12/lib/python3.12/site-packages/posthog/request.py:26: DeprecationWarning: datetime.datetime.utcnow() is deprecated and scheduled for removal in a future version. Use timezone-aware objects to represent datetimes in UTC: datetime.datetime.now(datetime.UTC).\n",
      "  body[\"sentAt\"] = datetime.utcnow().replace(tzinfo=tzutc()).isoformat()\n"
     ]
    }
   ],
   "source": [
    "import great_expectations as gx\n",
    "\n",
    "context = gx.get_context(mode=\"file\", project_root_dir=\"./new_context_folder\")\n",
    "print(context)"
   ]
  },
  {
   "cell_type": "code",
   "execution_count": 4,
   "id": "610698d0-458a-4d27-819d-4b36ad875858",
   "metadata": {},
   "outputs": [],
   "source": [
    "# Step 1: Load Data\n",
    "df1 = pd.read_csv(\"./data/wind_updated_file1.csv\")\n",
    "df2 = pd.read_csv(\"./data/wind_updated_file2.csv\")"
   ]
  },
  {
   "cell_type": "markdown",
   "id": "6e709aca-6ed9-4aa6-81eb-b1fdf721a517",
   "metadata": {},
   "source": [
    "### Creating data source, data asset, batch defination"
   ]
  },
  {
   "cell_type": "code",
   "execution_count": 5,
   "id": "8b03c6ab-8234-4cc4-991f-c32c59727214",
   "metadata": {},
   "outputs": [],
   "source": [
    "data_source = context.data_sources.add_pandas(name=\"ds\")\n",
    "\n",
    "# Step 4: Add DataFrame as a Data Asset\n",
    "# The asset is defined using the name \"pandas_asset\"\n",
    "data_asset1 = data_source.add_dataframe_asset(name=\"da1\")\n",
    "data_asset2 = data_source.add_dataframe_asset(name=\"da2\")\n",
    "\n",
    "# Step 5: Add Batch Definition\n",
    "# Creating a batch definition for the whole dataframe\n",
    "batch_definition1 = data_asset1.add_batch_definition_whole_dataframe(\"bd1\")\n",
    "batch_definition2 = data_asset2.add_batch_definition_whole_dataframe(\"bd1\")"
   ]
  },
  {
   "cell_type": "code",
   "execution_count": 6,
   "id": "e203bf7a-8377-436c-a8c6-5ede8ad79ec0",
   "metadata": {},
   "outputs": [
    {
     "name": "stderr",
     "output_type": "stream",
     "text": [
      "/Library/Frameworks/Python.framework/Versions/3.12/lib/python3.12/site-packages/posthog/client.py:310: DeprecationWarning: datetime.datetime.utcnow() is deprecated and scheduled for removal in a future version. Use timezone-aware objects to represent datetimes in UTC: datetime.datetime.now(datetime.UTC).\n",
      "  timestamp = datetime.utcnow().replace(tzinfo=tzutc())\n"
     ]
    },
    {
     "data": {
      "text/plain": [
       "ExpectColumnValuesToBeBetween(id='230a2881-7700-42d0-8e42-05ec46f2f5f2', meta={'notes': 'Values between 2 and 5 are valid for `ppa_tariff`.'}, notes=None, result_format=<ResultFormat.BASIC: 'BASIC'>, description=None, catch_exceptions=True, rendered_content=None, windows=None, batch_id=None, column='ppa_tariff', mostly=1, row_condition=None, condition_parser=None, min_value=2.0, max_value=5.0, strict_min=False, strict_max=False)"
      ]
     },
     "execution_count": 6,
     "metadata": {},
     "output_type": "execute_result"
    },
    {
     "name": "stderr",
     "output_type": "stream",
     "text": [
      "/Library/Frameworks/Python.framework/Versions/3.12/lib/python3.12/site-packages/posthog/request.py:26: DeprecationWarning: datetime.datetime.utcnow() is deprecated and scheduled for removal in a future version. Use timezone-aware objects to represent datetimes in UTC: datetime.datetime.now(datetime.UTC).\n",
      "  body[\"sentAt\"] = datetime.utcnow().replace(tzinfo=tzutc()).isoformat()\n"
     ]
    }
   ],
   "source": [
    "suite = gx.ExpectationSuite(name=\"es1\")\n",
    "\n",
    "# Add the expectation suite to the context\n",
    "suite = context.suites.add(suite)\n",
    "\n",
    "e1 = gx.expectations.ExpectColumnValuesToBeBetween(\n",
    "    column=\"plf\",  # Ensure this column name is correct and matches your dataset\n",
    "    min_value=20,\n",
    "    max_value=35,\n",
    "    meta={\"notes\": \"Values between 20 and 35 are valid for `plf`.\"}\n",
    ")\n",
    "suite.add_expectation(e1)\n",
    "\n",
    "e2 = gx.expectations.ExpectColumnValuesToBeBetween(\n",
    "    column=\"ppa_tariff\",\n",
    "    min_value=2,\n",
    "    max_value=5,\n",
    "    meta={\"notes\": \"Values between 2 and 5 are valid for `ppa_tariff`.\"}\n",
    ")\n",
    "suite.add_expectation(e2)\n",
    "\n"
   ]
  },
  {
   "cell_type": "code",
   "execution_count": 16,
   "id": "81737229-aed9-42eb-955d-277d8e927a09",
   "metadata": {
    "scrolled": true
   },
   "outputs": [],
   "source": [
    "validation_definition1 = gx.ValidationDefinition(\n",
    "    data=batch_definition1,  # Use 'batch' here as the actual data for validation\n",
    "    suite=suite,\n",
    "    name=\"vd1\",\n",
    "    \n",
    "    \n",
    ")\n",
    "\n",
    "# Add the validation definition to the context\n",
    "validation_definition1 = context.validation_definitions.add(validation_definition1)\n",
    "\n",
    "\n",
    "validation_definition2 = gx.ValidationDefinition(\n",
    "    data=batch_definition2,  # Use 'batch' here as the actual data for validation\n",
    "    suite=suite,\n",
    "    name=\"vd2\"\n",
    "    \n",
    ")\n",
    "\n",
    "# Add the validation definition to the context\n",
    "validation_definition2 = context.validation_definitions.add(validation_definition2)\n"
   ]
  },
  {
   "cell_type": "code",
   "execution_count": 17,
   "id": "c63f8f46-7094-48bc-8eb1-3e5780a9db15",
   "metadata": {
    "scrolled": true
   },
   "outputs": [
    {
     "data": {
      "application/vnd.jupyter.widget-view+json": {
       "model_id": "c357706264494280a3da996c317c22d1",
       "version_major": 2,
       "version_minor": 0
      },
      "text/plain": [
       "Calculating Metrics:   0%|          | 0/17 [00:00<?, ?it/s]"
      ]
     },
     "metadata": {},
     "output_type": "display_data"
    },
    {
     "data": {
      "application/vnd.jupyter.widget-view+json": {
       "model_id": "abf2341f085149cda45acc97371eab38",
       "version_major": 2,
       "version_minor": 0
      },
      "text/plain": [
       "Calculating Metrics:   0%|          | 0/17 [00:00<?, ?it/s]"
      ]
     },
     "metadata": {},
     "output_type": "display_data"
    },
    {
     "data": {
      "text/plain": [
       "{\n",
       "  \"success\": true,\n",
       "  \"results\": [\n",
       "    {\n",
       "      \"success\": true,\n",
       "      \"expectation_config\": {\n",
       "        \"type\": \"expect_column_values_to_be_between\",\n",
       "        \"kwargs\": {\n",
       "          \"batch_id\": \"ds-da2\",\n",
       "          \"column\": \"plf\",\n",
       "          \"min_value\": 20.0,\n",
       "          \"max_value\": 35.0\n",
       "        },\n",
       "        \"meta\": {\n",
       "          \"notes\": \"Values between 20 and 35 are valid for `plf`.\"\n",
       "        },\n",
       "        \"id\": \"bcece25f-cef1-441d-b22c-82881bc2c56b\"\n",
       "      },\n",
       "      \"result\": {\n",
       "        \"element_count\": 63,\n",
       "        \"unexpected_count\": 0,\n",
       "        \"unexpected_percent\": 0.0,\n",
       "        \"partial_unexpected_list\": [],\n",
       "        \"missing_count\": 0,\n",
       "        \"missing_percent\": 0.0,\n",
       "        \"unexpected_percent_total\": 0.0,\n",
       "        \"unexpected_percent_nonmissing\": 0.0,\n",
       "        \"partial_unexpected_counts\": [],\n",
       "        \"partial_unexpected_index_list\": []\n",
       "      },\n",
       "      \"meta\": {},\n",
       "      \"exception_info\": {\n",
       "        \"raised_exception\": false,\n",
       "        \"exception_traceback\": null,\n",
       "        \"exception_message\": null\n",
       "      }\n",
       "    },\n",
       "    {\n",
       "      \"success\": true,\n",
       "      \"expectation_config\": {\n",
       "        \"type\": \"expect_column_values_to_be_between\",\n",
       "        \"kwargs\": {\n",
       "          \"batch_id\": \"ds-da2\",\n",
       "          \"column\": \"ppa_tariff\",\n",
       "          \"min_value\": 2.0,\n",
       "          \"max_value\": 5.0\n",
       "        },\n",
       "        \"meta\": {\n",
       "          \"notes\": \"Values between 2 and 5 are valid for `ppa_tariff`.\"\n",
       "        },\n",
       "        \"id\": \"230a2881-7700-42d0-8e42-05ec46f2f5f2\"\n",
       "      },\n",
       "      \"result\": {\n",
       "        \"element_count\": 63,\n",
       "        \"unexpected_count\": 0,\n",
       "        \"unexpected_percent\": 0.0,\n",
       "        \"partial_unexpected_list\": [],\n",
       "        \"missing_count\": 0,\n",
       "        \"missing_percent\": 0.0,\n",
       "        \"unexpected_percent_total\": 0.0,\n",
       "        \"unexpected_percent_nonmissing\": 0.0,\n",
       "        \"partial_unexpected_counts\": [],\n",
       "        \"partial_unexpected_index_list\": []\n",
       "      },\n",
       "      \"meta\": {},\n",
       "      \"exception_info\": {\n",
       "        \"raised_exception\": false,\n",
       "        \"exception_traceback\": null,\n",
       "        \"exception_message\": null\n",
       "      }\n",
       "    }\n",
       "  ],\n",
       "  \"suite_name\": \"es1\",\n",
       "  \"suite_parameters\": {},\n",
       "  \"statistics\": {\n",
       "    \"evaluated_expectations\": 2,\n",
       "    \"successful_expectations\": 2,\n",
       "    \"unsuccessful_expectations\": 0,\n",
       "    \"success_percent\": 100.0\n",
       "  },\n",
       "  \"meta\": {\n",
       "    \"great_expectations_version\": \"1.2.4\",\n",
       "    \"batch_spec\": {\n",
       "      \"batch_data\": \"PandasDataFrame\"\n",
       "    },\n",
       "    \"batch_markers\": {\n",
       "      \"ge_load_time\": \"20241206T095405.352236Z\",\n",
       "      \"pandas_data_fingerprint\": \"ecda9a72858e69fc82161411c955e60d\"\n",
       "    },\n",
       "    \"active_batch_definition\": {\n",
       "      \"datasource_name\": \"ds\",\n",
       "      \"data_connector_name\": \"fluent\",\n",
       "      \"data_asset_name\": \"da2\",\n",
       "      \"batch_identifiers\": {\n",
       "        \"dataframe\": \"<DATAFRAME>\"\n",
       "      }\n",
       "    },\n",
       "    \"validation_id\": \"e3972eae-7ee4-4b88-a359-84e2c0b510d8\",\n",
       "    \"checkpoint_id\": null,\n",
       "    \"batch_parameters\": {\n",
       "      \"dataframe\": \"<DATAFRAME>\"\n",
       "    }\n",
       "  },\n",
       "  \"id\": null\n",
       "}"
      ]
     },
     "execution_count": 17,
     "metadata": {},
     "output_type": "execute_result"
    }
   ],
   "source": [
    "validation_definition1.run(batch_parameters={'dataframe':df1})\n",
    "validation_definition2.run(batch_parameters={'dataframe':df2})"
   ]
  },
  {
   "cell_type": "code",
   "execution_count": 47,
   "id": "ee7d0cb0-ae1c-4394-8f52-934d411274fd",
   "metadata": {
    "scrolled": true
   },
   "outputs": [],
   "source": [
    "# Create a list of one or more Validation Definitions for the Checkpoint to run\n",
    "validation_definitions = [\n",
    "    context.validation_definitions.get(\"vd1\"),\n",
    "    context.validation_definitions.get(\"vd2\")\n",
    "    \n",
    "]"
   ]
  },
  {
   "cell_type": "code",
   "execution_count": null,
   "id": "0ca81614-71c5-4822-9961-983b78264a36",
   "metadata": {
    "scrolled": true
   },
   "outputs": [
    {
     "name": "stderr",
     "output_type": "stream",
     "text": [
      "/Library/Frameworks/Python.framework/Versions/3.12/lib/python3.12/site-packages/posthog/client.py:310: DeprecationWarning: datetime.datetime.utcnow() is deprecated and scheduled for removal in a future version. Use timezone-aware objects to represent datetimes in UTC: datetime.datetime.now(datetime.UTC).\n",
      "  timestamp = datetime.utcnow().replace(tzinfo=tzutc())\n"
     ]
    },
    {
     "data": {
      "text/plain": [
       "Checkpoint(name='teams_notifications_checkpoint', validation_definitions=[ValidationDefinition(name='vd1', data=BatchDefinition(id=UUID('3c5d1ba9-89f2-49fa-8033-bcf6df5392cb'), name='bd1', partitioner=None), suite={\n",
       "  \"name\": \"es1\",\n",
       "  \"id\": \"1b5418bd-8e8b-446a-ae20-ad0d26afd173\",\n",
       "  \"expectations\": [\n",
       "    {\n",
       "      \"type\": \"expect_column_values_to_be_between\",\n",
       "      \"kwargs\": {\n",
       "        \"column\": \"plf\",\n",
       "        \"min_value\": 20.0,\n",
       "        \"max_value\": 35.0\n",
       "      },\n",
       "      \"meta\": {\n",
       "        \"notes\": \"Values between 20 and 35 are valid for `plf`.\"\n",
       "      },\n",
       "      \"id\": \"bcece25f-cef1-441d-b22c-82881bc2c56b\"\n",
       "    },\n",
       "    {\n",
       "      \"type\": \"expect_column_values_to_be_between\",\n",
       "      \"kwargs\": {\n",
       "        \"column\": \"ppa_tariff\",\n",
       "        \"min_value\": 2.0,\n",
       "        \"max_value\": 5.0\n",
       "      },\n",
       "      \"meta\": {\n",
       "        \"notes\": \"Values between 2 and 5 are valid for `ppa_tariff`.\"\n",
       "      },\n",
       "      \"id\": \"230a2881-7700-42d0-8e42-05ec46f2f5f2\"\n",
       "    }\n",
       "  ],\n",
       "  \"meta\": {\n",
       "    \"great_expectations_version\": \"1.2.4\"\n",
       "  },\n",
       "  \"notes\": null\n",
       "}, id='2dfda330-6d98-4006-8155-9c5ec05323da'), ValidationDefinition(name='vd2', data=BatchDefinition(id=UUID('afbdc6c1-3b33-47da-a903-6b51128ffcfd'), name='bd1', partitioner=None), suite={\n",
       "  \"name\": \"es1\",\n",
       "  \"id\": \"1b5418bd-8e8b-446a-ae20-ad0d26afd173\",\n",
       "  \"expectations\": [\n",
       "    {\n",
       "      \"type\": \"expect_column_values_to_be_between\",\n",
       "      \"kwargs\": {\n",
       "        \"column\": \"plf\",\n",
       "        \"min_value\": 20.0,\n",
       "        \"max_value\": 35.0\n",
       "      },\n",
       "      \"meta\": {\n",
       "        \"notes\": \"Values between 20 and 35 are valid for `plf`.\"\n",
       "      },\n",
       "      \"id\": \"bcece25f-cef1-441d-b22c-82881bc2c56b\"\n",
       "    },\n",
       "    {\n",
       "      \"type\": \"expect_column_values_to_be_between\",\n",
       "      \"kwargs\": {\n",
       "        \"column\": \"ppa_tariff\",\n",
       "        \"min_value\": 2.0,\n",
       "        \"max_value\": 5.0\n",
       "      },\n",
       "      \"meta\": {\n",
       "        \"notes\": \"Values between 2 and 5 are valid for `ppa_tariff`.\"\n",
       "      },\n",
       "      \"id\": \"230a2881-7700-42d0-8e42-05ec46f2f5f2\"\n",
       "    }\n",
       "  ],\n",
       "  \"meta\": {\n",
       "    \"great_expectations_version\": \"1.2.4\"\n",
       "  },\n",
       "  \"notes\": null\n",
       "}, id='e3972eae-7ee4-4b88-a359-84e2c0b510d8')], actions=[MicrosoftTeamsNotificationAction(type='microsoft', name='send_teams_notification', teams_webhook='https://sustainabilityeconomics736.webhook.office.com/webhookb2/3c4e89fb-5045-4b2f-9623-977b9e118f7d@a8606430-fd02-4b66-b04e-e614589bb5ae/IncomingWebhook/b92a1af86433472689f0ab8a7547d535/861906e0-eea2-4460-b1d0-099f375856b3/V2F6iHE8JUnVF62SMSgT91RQDYNuCZ71HKBFiTiNBZx581', notify_on='success', renderer=<great_expectations.render.renderer.microsoft_teams_renderer.MicrosoftTeamsRenderer object at 0x111ab0aa0>), UpdateDataDocsAction(type='update_data_docs', name='update_all_data_docs', site_names=[])], result_format={'result_format': 'COMPLETE'}, id='22d72127-c167-4caa-a1f7-11c7a7b72b42')"
      ]
     },
     "execution_count": 38,
     "metadata": {},
     "output_type": "execute_result"
    },
    {
     "name": "stderr",
     "output_type": "stream",
     "text": [
      "/Library/Frameworks/Python.framework/Versions/3.12/lib/python3.12/site-packages/posthog/request.py:26: DeprecationWarning: datetime.datetime.utcnow() is deprecated and scheduled for removal in a future version. Use timezone-aware objects to represent datetimes in UTC: datetime.datetime.now(datetime.UTC).\n",
      "  body[\"sentAt\"] = datetime.utcnow().replace(tzinfo=tzutc()).isoformat()\n"
     ]
    }
   ],
   "source": [
    "# Define the Microsoft Teams webhook URL\n",
    "teams_webhook_url = \"https://sustainabilityeconomics736.webhook.office.com/webhookb2/3c4e89fb-5045-4b2f-9623-977b9e118f7d@a8606430-fd02-4b66-b04e-e614589bb5ae/IncomingWebhook/b92a1af86433472689f0ab8a7547d535/861906e0-eea2-4460-b1d0-099f375856b3/V2F6iHE8JUnVF62SMSgT91RQDYNuCZ71HKBFiTiNBZx581\"  # Replace with your Teams webhook\n",
    "\n",
    "# Create a list of Actions for the Checkpoint to perform\n",
    "action_list = [\n",
    "    # Microsoft Teams Notification Action\n",
    "    MicrosoftTeamsNotificationAction(\n",
    "        name=\"send_teams_notification\",\n",
    "        teams_webhook=teams_webhook_url,\n",
    "        notify_on=\"success\",  # Trigger notification on \"failure\"\n",
    "    ),\n",
    "    # Update Data Docs Action\n",
    "    UpdateDataDocsAction(\n",
    "        name=\"update_all_data_docs\",\n",
    "    ),\n",
    "]\n",
    "\n",
    "# Create the Checkpoint\n",
    "checkpoint_name = \"teams_notifications_checkpoint\"\n",
    "checkpoint = gx.Checkpoint(\n",
    "    name=checkpoint_name,\n",
    "    validation_definitions=validation_definitions,\n",
    "    actions=action_list,\n",
    "    result_format={\"result_format\": \"COMPLETE\"},\n",
    "    id=\"ichbin\"\n",
    ")\n",
    "\n",
    "# Save the Checkpoint to the Data Context\n",
    "context.checkpoints.add(checkpoint)"
   ]
  },
  {
   "cell_type": "code",
   "execution_count": 48,
   "id": "58614f5c-5f16-4a45-b0f2-f852e374d427",
   "metadata": {},
   "outputs": [],
   "source": [
    "checkpoint.validation_definitions = validation_definitions\n",
    "checkpoint.save()"
   ]
  },
  {
   "cell_type": "code",
   "execution_count": 49,
   "id": "58365139-58fe-47b7-bfe6-537f65130106",
   "metadata": {},
   "outputs": [
    {
     "data": {
      "application/vnd.jupyter.widget-view+json": {
       "model_id": "ea264ce7759b4ba59a7e7ea67f6a77c9",
       "version_major": 2,
       "version_minor": 0
      },
      "text/plain": [
       "Calculating Metrics:   0%|          | 0/17 [00:00<?, ?it/s]"
      ]
     },
     "metadata": {},
     "output_type": "display_data"
    },
    {
     "data": {
      "application/vnd.jupyter.widget-view+json": {
       "model_id": "519bca1a2a9a4a0fbaa8b949b1ae2e18",
       "version_major": 2,
       "version_minor": 0
      },
      "text/plain": [
       "Calculating Metrics:   0%|          | 0/17 [00:00<?, ?it/s]"
      ]
     },
     "metadata": {},
     "output_type": "display_data"
    },
    {
     "name": "stderr",
     "output_type": "stream",
     "text": [
      "/Library/Frameworks/Python.framework/Versions/3.12/lib/python3.12/site-packages/posthog/client.py:310: DeprecationWarning: datetime.datetime.utcnow() is deprecated and scheduled for removal in a future version. Use timezone-aware objects to represent datetimes in UTC: datetime.datetime.now(datetime.UTC).\n",
      "  timestamp = datetime.utcnow().replace(tzinfo=tzutc())\n",
      "/Library/Frameworks/Python.framework/Versions/3.12/lib/python3.12/site-packages/posthog/request.py:26: DeprecationWarning: datetime.datetime.utcnow() is deprecated and scheduled for removal in a future version. Use timezone-aware objects to represent datetimes in UTC: datetime.datetime.now(datetime.UTC).\n",
      "  body[\"sentAt\"] = datetime.utcnow().replace(tzinfo=tzutc()).isoformat()\n"
     ]
    }
   ],
   "source": [
    "batch_parameters1 = {\"dataframe\": df1}\n",
    "\n",
    "# Run the Checkpoint\n",
    "results1 = checkpoint.run(batch_parameters=batch_parameters1)"
   ]
  },
  {
   "cell_type": "code",
   "execution_count": null,
   "id": "5834e916-3923-4e05-9f8a-e4bb866ba01b",
   "metadata": {},
   "outputs": [
    {
     "data": {
      "application/vnd.jupyter.widget-view+json": {
       "model_id": "b9d7df0df5854325bba96b55315c709a",
       "version_major": 2,
       "version_minor": 0
      },
      "text/plain": [
       "Calculating Metrics:   0%|          | 0/17 [00:00<?, ?it/s]"
      ]
     },
     "metadata": {},
     "output_type": "display_data"
    },
    {
     "data": {
      "application/vnd.jupyter.widget-view+json": {
       "model_id": "11f20b7a5917493c89b78026cee9ea1b",
       "version_major": 2,
       "version_minor": 0
      },
      "text/plain": [
       "Calculating Metrics:   0%|          | 0/17 [00:00<?, ?it/s]"
      ]
     },
     "metadata": {},
     "output_type": "display_data"
    },
    {
     "name": "stderr",
     "output_type": "stream",
     "text": [
      "/Library/Frameworks/Python.framework/Versions/3.12/lib/python3.12/site-packages/posthog/client.py:310: DeprecationWarning: datetime.datetime.utcnow() is deprecated and scheduled for removal in a future version. Use timezone-aware objects to represent datetimes in UTC: datetime.datetime.now(datetime.UTC).\n",
      "  timestamp = datetime.utcnow().replace(tzinfo=tzutc())\n"
     ]
    },
    {
     "data": {
      "application/vnd.jupyter.widget-view+json": {
       "model_id": "90edfb4d721c450aac23082a81870a12",
       "version_major": 2,
       "version_minor": 0
      },
      "text/plain": [
       "Calculating Metrics:   0%|          | 0/17 [00:00<?, ?it/s]"
      ]
     },
     "metadata": {},
     "output_type": "display_data"
    },
    {
     "data": {
      "application/vnd.jupyter.widget-view+json": {
       "model_id": "58914b78e37e444cad4e2cd2b8822981",
       "version_major": 2,
       "version_minor": 0
      },
      "text/plain": [
       "Calculating Metrics:   0%|          | 0/17 [00:00<?, ?it/s]"
      ]
     },
     "metadata": {},
     "output_type": "display_data"
    },
    {
     "name": "stderr",
     "output_type": "stream",
     "text": [
      "/Library/Frameworks/Python.framework/Versions/3.12/lib/python3.12/site-packages/posthog/request.py:26: DeprecationWarning: datetime.datetime.utcnow() is deprecated and scheduled for removal in a future version. Use timezone-aware objects to represent datetimes in UTC: datetime.datetime.now(datetime.UTC).\n",
      "  body[\"sentAt\"] = datetime.utcnow().replace(tzinfo=tzutc()).isoformat()\n",
      "/Library/Frameworks/Python.framework/Versions/3.12/lib/python3.12/site-packages/posthog/client.py:310: DeprecationWarning: datetime.datetime.utcnow() is deprecated and scheduled for removal in a future version. Use timezone-aware objects to represent datetimes in UTC: datetime.datetime.now(datetime.UTC).\n",
      "  timestamp = datetime.utcnow().replace(tzinfo=tzutc())\n"
     ]
    }
   ],
   "source": [
    "batch_parameters2 = {\"dataframe\": df2}\n",
    "\n",
    "# Run the Checkpoint\n",
    "results2 = checkpoint.run(batch_parameters=batch_parameters2)"
   ]
  },
  {
   "cell_type": "code",
   "execution_count": 40,
   "id": "888ac9ce-6468-43ee-bd3a-e96793c672b0",
   "metadata": {},
   "outputs": [],
   "source": [
    "context.open_data_docs()"
   ]
  },
  {
   "cell_type": "code",
   "execution_count": null,
   "id": "73429602-fc3b-4541-9e53-5047faa5d0f3",
   "metadata": {},
   "outputs": [],
   "source": []
  }
 ],
 "metadata": {
  "kernelspec": {
   "display_name": "Python 3 (ipykernel)",
   "language": "python",
   "name": "python3"
  },
  "language_info": {
   "codemirror_mode": {
    "name": "ipython",
    "version": 3
   },
   "file_extension": ".py",
   "mimetype": "text/x-python",
   "name": "python",
   "nbconvert_exporter": "python",
   "pygments_lexer": "ipython3",
   "version": "3.12.3"
  }
 },
 "nbformat": 4,
 "nbformat_minor": 5
}
