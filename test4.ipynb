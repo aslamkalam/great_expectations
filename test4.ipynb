{
 "cells": [
  {
   "cell_type": "code",
   "execution_count": 12,
   "id": "2902d960-205e-4469-8826-01423e5ca141",
   "metadata": {
    "scrolled": true
   },
   "outputs": [
    {
     "name": "stderr",
     "output_type": "stream",
     "text": [
      "/Library/Frameworks/Python.framework/Versions/3.12/lib/python3.12/site-packages/posthog/client.py:310: DeprecationWarning: datetime.datetime.utcnow() is deprecated and scheduled for removal in a future version. Use timezone-aware objects to represent datetimes in UTC: datetime.datetime.now(datetime.UTC).\n",
      "  timestamp = datetime.utcnow().replace(tzinfo=tzutc())\n"
     ]
    },
    {
     "ename": "DataContextError",
     "evalue": "Cannot add ExpectationSuite with name es1 because it already exists.",
     "output_type": "error",
     "traceback": [
      "\u001b[0;31m---------------------------------------------------------------------------\u001b[0m",
      "\u001b[0;31mDataContextError\u001b[0m                          Traceback (most recent call last)",
      "Cell \u001b[0;32mIn[12], line 29\u001b[0m\n\u001b[1;32m     26\u001b[0m suite \u001b[38;5;241m=\u001b[39m gx\u001b[38;5;241m.\u001b[39mExpectationSuite(name\u001b[38;5;241m=\u001b[39msuite_name)\n\u001b[1;32m     28\u001b[0m \u001b[38;5;66;03m# Add the expectation suite to the context\u001b[39;00m\n\u001b[0;32m---> 29\u001b[0m suite \u001b[38;5;241m=\u001b[39m \u001b[43mcontext\u001b[49m\u001b[38;5;241;43m.\u001b[39;49m\u001b[43msuites\u001b[49m\u001b[38;5;241;43m.\u001b[39;49m\u001b[43madd\u001b[49m\u001b[43m(\u001b[49m\u001b[43msuite\u001b[49m\u001b[43m)\u001b[49m\n\u001b[1;32m     32\u001b[0m e1 \u001b[38;5;241m=\u001b[39m gx\u001b[38;5;241m.\u001b[39mexpectations\u001b[38;5;241m.\u001b[39mExpectColumnValuesToBeBetween(\n\u001b[1;32m     33\u001b[0m     column\u001b[38;5;241m=\u001b[39m\u001b[38;5;124m\"\u001b[39m\u001b[38;5;124mplf\u001b[39m\u001b[38;5;124m\"\u001b[39m,  \u001b[38;5;66;03m# Ensure this column name is correct and matches your dataset\u001b[39;00m\n\u001b[1;32m     34\u001b[0m     min_value\u001b[38;5;241m=\u001b[39m\u001b[38;5;241m20\u001b[39m,\n\u001b[1;32m     35\u001b[0m     max_value\u001b[38;5;241m=\u001b[39m\u001b[38;5;241m35\u001b[39m,\n\u001b[1;32m     36\u001b[0m     meta\u001b[38;5;241m=\u001b[39m{\u001b[38;5;124m\"\u001b[39m\u001b[38;5;124mnotes\u001b[39m\u001b[38;5;124m\"\u001b[39m: \u001b[38;5;124m\"\u001b[39m\u001b[38;5;124mValues between 20 and 35 are valid for `plf`.\u001b[39m\u001b[38;5;124m\"\u001b[39m}\n\u001b[1;32m     37\u001b[0m )\n\u001b[1;32m     39\u001b[0m suite\u001b[38;5;241m.\u001b[39madd_expectation(e1)\n",
      "File \u001b[0;32m/Library/Frameworks/Python.framework/Versions/3.12/lib/python3.12/site-packages/great_expectations/core/factory/suite_factory.py:44\u001b[0m, in \u001b[0;36mSuiteFactory.add\u001b[0;34m(self, suite)\u001b[0m\n\u001b[1;32m     42\u001b[0m key \u001b[38;5;241m=\u001b[39m \u001b[38;5;28mself\u001b[39m\u001b[38;5;241m.\u001b[39m_store\u001b[38;5;241m.\u001b[39mget_key(name\u001b[38;5;241m=\u001b[39msuite\u001b[38;5;241m.\u001b[39mname, \u001b[38;5;28mid\u001b[39m\u001b[38;5;241m=\u001b[39m\u001b[38;5;28;01mNone\u001b[39;00m)\n\u001b[1;32m     43\u001b[0m \u001b[38;5;28;01mif\u001b[39;00m \u001b[38;5;28mself\u001b[39m\u001b[38;5;241m.\u001b[39m_store\u001b[38;5;241m.\u001b[39mhas_key(key\u001b[38;5;241m=\u001b[39mkey):\n\u001b[0;32m---> 44\u001b[0m     \u001b[38;5;28;01mraise\u001b[39;00m DataContextError(  \u001b[38;5;66;03m# noqa: TRY003\u001b[39;00m\n\u001b[1;32m     45\u001b[0m         \u001b[38;5;124mf\u001b[39m\u001b[38;5;124m\"\u001b[39m\u001b[38;5;124mCannot add ExpectationSuite with name \u001b[39m\u001b[38;5;132;01m{\u001b[39;00msuite\u001b[38;5;241m.\u001b[39mname\u001b[38;5;132;01m}\u001b[39;00m\u001b[38;5;124m because it already exists.\u001b[39m\u001b[38;5;124m\"\u001b[39m\n\u001b[1;32m     46\u001b[0m     )\n\u001b[1;32m     47\u001b[0m \u001b[38;5;28mself\u001b[39m\u001b[38;5;241m.\u001b[39m_store\u001b[38;5;241m.\u001b[39madd(key\u001b[38;5;241m=\u001b[39mkey, value\u001b[38;5;241m=\u001b[39msuite)\n\u001b[1;32m     49\u001b[0m submit_event(\n\u001b[1;32m     50\u001b[0m     event\u001b[38;5;241m=\u001b[39mExpectationSuiteCreatedEvent(\n\u001b[1;32m     51\u001b[0m         expectation_suite_id\u001b[38;5;241m=\u001b[39msuite\u001b[38;5;241m.\u001b[39mid,\n\u001b[1;32m     52\u001b[0m     )\n\u001b[1;32m     53\u001b[0m )\n",
      "\u001b[0;31mDataContextError\u001b[0m: Cannot add ExpectationSuite with name es1 because it already exists."
     ]
    },
    {
     "name": "stderr",
     "output_type": "stream",
     "text": [
      "/Library/Frameworks/Python.framework/Versions/3.12/lib/python3.12/site-packages/posthog/request.py:26: DeprecationWarning: datetime.datetime.utcnow() is deprecated and scheduled for removal in a future version. Use timezone-aware objects to represent datetimes in UTC: datetime.datetime.now(datetime.UTC).\n",
      "  body[\"sentAt\"] = datetime.utcnow().replace(tzinfo=tzutc()).isoformat()\n"
     ]
    }
   ],
   "source": [
    "import great_expectations as gx\n",
    "import pandas as pd\n",
    "from great_expectations.checkpoint import (\n",
    "    MicrosoftTeamsNotificationAction,\n",
    "    UpdateDataDocsAction,\n",
    ")\n",
    "\n",
    "context = gx.get_context()\n",
    "\n",
    "# Step 1: Load Data\n",
    "df = pd.read_csv(\"./data/wind_updated_file1.csv\")\n",
    "\n",
    "# Step 3: Add a Pandas Data Source\n",
    "# Note: If 'add_pandas' doesn't exist, make sure to use the correct method to add a datasource.\n",
    "data_source = context.data_sources.add_pandas(name=\"ds2\")\n",
    "\n",
    "# Step 4: Add DataFrame as a Data Asset\n",
    "# The asset is defined using the name \"pandas_asset\"\n",
    "data_asset = data_source.add_dataframe_asset(name=\"da1\")\n",
    "\n",
    "# Step 5: Add Batch Definition\n",
    "# Creating a batch definition for the whole dataframe\n",
    "batch_definition = data_asset.add_batch_definition_whole_dataframe(\"bd1\")\n",
    "\n",
    "suite_name = \"es1\"\n",
    "suite = gx.ExpectationSuite(name=suite_name)\n",
    "\n",
    "# Add the expectation suite to the context\n",
    "suite = context.suites.add(suite)\n",
    "\n",
    "\n",
    "e1 = gx.expectations.ExpectColumnValuesToBeBetween(\n",
    "    column=\"plf\",  # Ensure this column name is correct and matches your dataset\n",
    "    min_value=20,\n",
    "    max_value=35,\n",
    "    meta={\"notes\": \"Values between 20 and 35 are valid for `plf`.\"}\n",
    ")\n",
    "\n",
    "suite.add_expectation(e1)\n",
    "\n",
    "definition_name = \"vd1\"\n",
    "validation_definition = gx.ValidationDefinition(\n",
    "    data=batch_definition,  # Use 'batch' here as the actual data for validation\n",
    "    suite=suite,\n",
    "    name=definition_name\n",
    "    \n",
    ")\n",
    "\n",
    "# Add the validation definition to the context\n",
    "validation_definition = context.validation_definitions.add(validation_definition)\n",
    "\n",
    "\n",
    "# Create a list of one or more Validation Definitions for the Checkpoint to run\n",
    "validation_definitions = [\n",
    "    context.validation_definitions.get(\"vd1\")\n",
    "]\n",
    "\n",
    "# Define the Microsoft Teams webhook URL\n",
    "teams_webhook_url = \"https://sustainabilityeconomics736.webhook.office.com/webhookb2/3c4e89fb-5045-4b2f-9623-977b9e118f7d@a8606430-fd02-4b66-b04e-e614589bb5ae/IncomingWebhook/b92a1af86433472689f0ab8a7547d535/861906e0-eea2-4460-b1d0-099f375856b3/V2F6iHE8JUnVF62SMSgT91RQDYNuCZ71HKBFiTiNBZx581\"  # Replace with your Teams webhook\n",
    "\n",
    "# Create a list of Actions for the Checkpoint to perform\n",
    "action_list = [\n",
    "    # Microsoft Teams Notification Action\n",
    "    MicrosoftTeamsNotificationAction(\n",
    "        name=\"send_teams_notification\",\n",
    "        teams_webhook=teams_webhook_url,\n",
    "        notify_on=\"success\",  # Trigger notification on \"failure\"\n",
    "    ),\n",
    "    # Update Data Docs Action\n",
    "    UpdateDataDocsAction(\n",
    "        name=\"update_all_data_docs\",\n",
    "    ),\n",
    "]\n",
    "\n",
    "# Create the Checkpoint\n",
    "checkpoint_name = \"teams_notifications_checkpoint2\"\n",
    "checkpoint = gx.Checkpoint(\n",
    "    name=checkpoint_name,\n",
    "    validation_definitions=validation_definitions,\n",
    "    actions=action_list,\n",
    "    result_format={\"result_format\": \"COMPLETE\"},\n",
    ")\n",
    "\n",
    "# Save the Checkpoint to the Data Context\n",
    "context.checkpoints.add(checkpoint)\n",
    "\n",
    "\n",
    "batch_parameters = {\"dataframe\": df}\n",
    "\n",
    "# Run the Checkpoint\n",
    "results = checkpoint.run(batch_parameters=batch_parameters)\n"
   ]
  },
  {
   "cell_type": "code",
   "execution_count": 11,
   "id": "e34664ed-8f28-440d-b968-bf0280d9c150",
   "metadata": {},
   "outputs": [],
   "source": [
    "context.open_data_docs()"
   ]
  },
  {
   "cell_type": "code",
   "execution_count": null,
   "id": "0186efa3-3a3e-4370-b349-dd4ad639abc7",
   "metadata": {},
   "outputs": [],
   "source": [
    "import great_expectations as gx\n",
    "import pandas as pd\n",
    "from great_expectations.checkpoint import (\n",
    "    MicrosoftTeamsNotificationAction,\n",
    "    UpdateDataDocsAction,\n",
    ")\n",
    "\n",
    "context = gx.get_context()\n",
    "\n",
    "# Step 1: Load Data\n",
    "df = pd.read_csv(\"./data/wind_updated_file1.csv\")\n",
    "\n",
    "# Step 3: Add a Pandas Data Source\n",
    "# Note: If 'add_pandas' doesn't exist, make sure to use the correct method to add a datasource.\n",
    "data_source1 = context.data_sources.add_pandas(name=\"dsa1\")\n",
    "\n",
    "\n",
    "# Step 4: Add DataFrame as a Data Asset\n",
    "# The asset is defined using the name \"pandas_asset\"\n",
    "data_asset1 = data_source1.add_dataframe_asset(name=\"daa1\")\n",
    "data_asset2 = data_source1.add_dataframe_asset(name=\"daa2\")\n",
    "\n",
    "# Step 5: Add Batch Definition\n",
    "# Creating a batch definition for the whole dataframe\n",
    "batch_definition1 = data_asset1.add_batch_definition_whole_dataframe(\"bda1\")\n",
    "batch_definition2 = data_asset2.add_batch_definition_whole_dataframe(\"bda2\")\n",
    "\n",
    "suite_name = \"esa1\"\n",
    "suite = gx.ExpectationSuite(name=suite_name)\n",
    "\n",
    "# Add the expectation suite to the context\n",
    "suite = context.suites.add(suite)\n",
    "\n",
    "\n",
    "e1 = gx.expectations.ExpectColumnValuesToBeBetween(\n",
    "    column=\"plf\",  # Ensure this column name is correct and matches your dataset\n",
    "    min_value=20,\n",
    "    max_value=35,\n",
    "    meta={\"notes\": \"Values between 20 and 35 are valid for `plf`.\"}\n",
    ")\n",
    "\n",
    "\n",
    "suite.add_expectation(e1)"
   ]
  },
  {
   "cell_type": "code",
   "execution_count": null,
   "id": "e2d63986-ca8e-41d1-9ff5-0fcfe4663afb",
   "metadata": {},
   "outputs": [],
   "source": [
    "definition_name1 = \"vdaaa1\"\n",
    "validation_definition1 = gx.ValidationDefinition(\n",
    "    data=batch_definition1,  # Use 'batch' here as the actual data for validation\n",
    "    suite=suite,\n",
    "    name=definition_name1\n",
    "    \n",
    ")\n",
    "\n",
    "# Add the validation definition to the context\n",
    "validation_definition2 = context.validation_definitions.add(validation_definition1)\n",
    "\n",
    "definition_name2 = \"vda2\"\n",
    "validation_definition2 = gx.ValidationDefinition(\n",
    "    data=batch_definition2,  # Use 'batch' here as the actual data for validation\n",
    "    suite=suite,\n",
    "    name=definition_name2\n",
    "    \n",
    ")\n",
    "\n",
    "# Add the validation definition to the context\n",
    "validation_definition1 = context.validation_definitions.add(validation_definition1)"
   ]
  },
  {
   "cell_type": "code",
   "execution_count": 16,
   "id": "045c0520-2069-4020-a885-f7fee6eb85f2",
   "metadata": {},
   "outputs": [
    {
     "data": {
      "application/vnd.jupyter.widget-view+json": {
       "model_id": "45bd5ca4c99340faaa308f4d6c4f2ac3",
       "version_major": 2,
       "version_minor": 0
      },
      "text/plain": [
       "Calculating Metrics:   0%|          | 0/10 [00:00<?, ?it/s]"
      ]
     },
     "metadata": {},
     "output_type": "display_data"
    },
    {
     "data": {
      "application/vnd.jupyter.widget-view+json": {
       "model_id": "01aaaa00fb1047e6a23b354423b221f8",
       "version_major": 2,
       "version_minor": 0
      },
      "text/plain": [
       "Calculating Metrics:   0%|          | 0/10 [00:00<?, ?it/s]"
      ]
     },
     "metadata": {},
     "output_type": "display_data"
    },
    {
     "name": "stderr",
     "output_type": "stream",
     "text": [
      "/Library/Frameworks/Python.framework/Versions/3.12/lib/python3.12/site-packages/posthog/request.py:26: DeprecationWarning: datetime.datetime.utcnow() is deprecated and scheduled for removal in a future version. Use timezone-aware objects to represent datetimes in UTC: datetime.datetime.now(datetime.UTC).\n",
      "  body[\"sentAt\"] = datetime.utcnow().replace(tzinfo=tzutc()).isoformat()\n",
      "/Library/Frameworks/Python.framework/Versions/3.12/lib/python3.12/site-packages/posthog/client.py:310: DeprecationWarning: datetime.datetime.utcnow() is deprecated and scheduled for removal in a future version. Use timezone-aware objects to represent datetimes in UTC: datetime.datetime.now(datetime.UTC).\n",
      "  timestamp = datetime.utcnow().replace(tzinfo=tzutc())\n"
     ]
    }
   ],
   "source": [
    "validation_definition2 = context.validation_definitions.add(validation_definition2)\n",
    "\n",
    "\n",
    "# Create a list of one or more Validation Definitions for the Checkpoint to run\n",
    "validation_definitions = [\n",
    "    context.validation_definitions.get(\"vda1\"),\n",
    "    context.validation_definitions.get(\"vda2\")\n",
    "]\n",
    "\n",
    "# Define the Microsoft Teams webhook URL\n",
    "teams_webhook_url = \"https://sustainabilityeconomics736.webhook.office.com/webhookb2/3c4e89fb-5045-4b2f-9623-977b9e118f7d@a8606430-fd02-4b66-b04e-e614589bb5ae/IncomingWebhook/b92a1af86433472689f0ab8a7547d535/861906e0-eea2-4460-b1d0-099f375856b3/V2F6iHE8JUnVF62SMSgT91RQDYNuCZ71HKBFiTiNBZx581\"  # Replace with your Teams webhook\n",
    "\n",
    "# Create a list of Actions for the Checkpoint to perform\n",
    "action_list = [\n",
    "    # Microsoft Teams Notification Action\n",
    "    MicrosoftTeamsNotificationAction(\n",
    "        name=\"send_teams_notification\",\n",
    "        teams_webhook=teams_webhook_url,\n",
    "        notify_on=\"success\",  # Trigger notification on \"failure\"\n",
    "    ),\n",
    "    # Update Data Docs Action\n",
    "    UpdateDataDocsAction(\n",
    "        name=\"update_all_data_docs\",\n",
    "    ),\n",
    "]\n",
    "\n",
    "# Create the Checkpoint\n",
    "checkpoint_name1 = \"teams_notifications_checkpoint_a1\"\n",
    "checkpoint1 = gx.Checkpoint(\n",
    "    name=checkpoint_name1,\n",
    "    validation_definitions=validation_definitions,\n",
    "    actions=action_list,\n",
    "    result_format={\"result_format\": \"COMPLETE\"},\n",
    ")\n",
    "\n",
    "# Save the Checkpoint to the Data Context\n",
    "context.checkpoints.add(checkpoint1)\n",
    "\n",
    "\n",
    "batch_parameters = {\"dataframe\": df}\n",
    "\n",
    "# Run the Checkpoint\n",
    "results = checkpoint1.run(batch_parameters=batch_parameters)"
   ]
  },
  {
   "cell_type": "code",
   "execution_count": 17,
   "id": "d1d7ed96-b910-4b80-93ae-46cd6fe07b8b",
   "metadata": {},
   "outputs": [],
   "source": [
    "context.open_data_docs()"
   ]
  },
  {
   "cell_type": "code",
   "execution_count": null,
   "id": "25b6dec8-4d0b-428f-8382-7ceef20a5f47",
   "metadata": {},
   "outputs": [],
   "source": []
  }
 ],
 "metadata": {
  "kernelspec": {
   "display_name": "Python 3 (ipykernel)",
   "language": "python",
   "name": "python3"
  },
  "language_info": {
   "codemirror_mode": {
    "name": "ipython",
    "version": 3
   },
   "file_extension": ".py",
   "mimetype": "text/x-python",
   "name": "python",
   "nbconvert_exporter": "python",
   "pygments_lexer": "ipython3",
   "version": "3.12.3"
  }
 },
 "nbformat": 4,
 "nbformat_minor": 5
}
